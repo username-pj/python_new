{
 "cells": [
  {
   "cell_type": "markdown",
   "id": "45f449ad",
   "metadata": {},
   "source": [
    "# mock it 1"
   ]
  },
  {
   "cell_type": "markdown",
   "id": "e48c51f5",
   "metadata": {},
   "source": [
    "## corrected codes"
   ]
  },
  {
   "cell_type": "code",
   "execution_count": null,
   "id": "4b4d1e7a",
   "metadata": {},
   "outputs": [],
   "source": [
    "\n",
    "# Q1\n",
    "x = int(input(\"enter value of x\"))\n",
    "for in range [0,10]:\n",
    "    if x=y\n",
    "        print(x+y)\n",
    "    else\n",
    "        print(x-y)"
   ]
  },
  {
   "cell_type": "code",
   "execution_count": 4,
   "id": "633a3068",
   "metadata": {},
   "outputs": [
    {
     "name": "stdout",
     "output_type": "stream",
     "text": [
      "enter value of x100\n",
      "100\n",
      "99\n",
      "98\n",
      "97\n",
      "96\n",
      "95\n",
      "94\n",
      "93\n",
      "92\n",
      "91\n"
     ]
    }
   ],
   "source": [
    "#CORRECTED\n",
    "x = int(input(\"enter value of x\"))\n",
    "for y in range(0,10):\n",
    "    if x==y:\n",
    "        print(x+y)\n",
    "    else:\n",
    "        print(x-y)\n",
    "      "
   ]
  },
  {
   "cell_type": "code",
   "execution_count": 5,
   "id": "76071498",
   "metadata": {},
   "outputs": [
    {
     "name": "stdout",
     "output_type": "stream",
     "text": [
      "enter value of x5\n",
      "5\n",
      "4\n",
      "3\n",
      "2\n",
      "1\n",
      "10\n",
      "-1\n",
      "-2\n",
      "-3\n",
      "-4\n"
     ]
    }
   ],
   "source": [
    "#CORRECTED\n",
    "x = int(input(\"enter value of x\"))\n",
    "for y in range(0,10):\n",
    "    if x==y:\n",
    "        print(x+y)\n",
    "    else:\n",
    "        print(x-y)"
   ]
  },
  {
   "cell_type": "code",
   "execution_count": null,
   "id": "0b88ada4",
   "metadata": {},
   "outputs": [],
   "source": [
    "#Q2\n",
    "a,b=0\n",
    "print(a)\n",
    "print(b)"
   ]
  },
  {
   "cell_type": "code",
   "execution_count": 6,
   "id": "31740e13",
   "metadata": {},
   "outputs": [
    {
     "name": "stdout",
     "output_type": "stream",
     "text": [
      "0\n",
      "0\n"
     ]
    }
   ],
   "source": [
    "a=0\n",
    "b=a\n",
    "print(a)\n",
    "print(b)"
   ]
  },
  {
   "cell_type": "code",
   "execution_count": null,
   "id": "a943b4fc",
   "metadata": {},
   "outputs": [],
   "source": [
    "#Q\n",
    "a,b=0\n",
    "if(a==b):\n",
    "    a+b=c\n",
    "print(z)"
   ]
  },
  {
   "cell_type": "code",
   "execution_count": 7,
   "id": "209cd118",
   "metadata": {},
   "outputs": [
    {
     "name": "stdout",
     "output_type": "stream",
     "text": [
      "0\n"
     ]
    }
   ],
   "source": [
    "a=0\n",
    "b=a\n",
    "c=0\n",
    "if(a==b):\n",
    "    z=a+b\n",
    "print(z)"
   ]
  },
  {
   "cell_type": "code",
   "execution_count": null,
   "id": "f34ed519",
   "metadata": {},
   "outputs": [],
   "source": [
    "250=Number\n",
    "WHILE number<=1000:\n",
    "if Number=>750 print(Number)\n",
    "Number=Number+100\n",
    "else\n",
    "print(Number*2)\n",
    "Number=Number+50"
   ]
  },
  {
   "cell_type": "code",
   "execution_count": 9,
   "id": "43f7a0f7",
   "metadata": {},
   "outputs": [
    {
     "name": "stdout",
     "output_type": "stream",
     "text": [
      "500\n",
      "1100\n"
     ]
    }
   ],
   "source": [
    "Number=250\n",
    "while Number<=1000:\n",
    "    if Number>=750:\n",
    "        print(Number)\n",
    "        Number=Number+100\n",
    "    else:\n",
    "        Number=Number*2\n",
    "    print(Number)\n",
    "    Number=Number+50"
   ]
  },
  {
   "cell_type": "code",
   "execution_count": null,
   "id": "351b1be1",
   "metadata": {},
   "outputs": [],
   "source": [
    "#Q\n",
    "Val=int(rawinput(\"Value:\"))\n",
    "Adder=0\n",
    "for C inrange(1,Val,3)\n",
    "Adder+=C if C%2=0:\n",
    "Print(C*10)\n",
    "\n",
    "Else:print(Adder)\n",
    "    \n",
    "    "
   ]
  },
  {
   "cell_type": "code",
   "execution_count": 13,
   "id": "62c8bf0e",
   "metadata": {},
   "outputs": [
    {
     "name": "stdout",
     "output_type": "stream",
     "text": [
      "Value:67\n",
      "1\n",
      "1\n",
      "40\n",
      "5\n",
      "7\n",
      "12\n",
      "100\n",
      "22\n",
      "13\n",
      "35\n",
      "160\n",
      "51\n",
      "19\n",
      "70\n",
      "220\n",
      "92\n",
      "25\n",
      "117\n",
      "280\n",
      "145\n",
      "31\n",
      "176\n",
      "340\n",
      "210\n",
      "37\n",
      "247\n",
      "400\n",
      "287\n",
      "43\n",
      "330\n",
      "460\n",
      "376\n",
      "49\n",
      "425\n",
      "520\n",
      "477\n",
      "55\n",
      "532\n",
      "580\n",
      "590\n",
      "61\n",
      "651\n",
      "640\n",
      "715\n"
     ]
    }
   ],
   "source": [
    "Val=int(input(\"Value:\"))\n",
    "Adder=0\n",
    "for C in range(1,Val,3):\n",
    "    Adder+=C\n",
    "    #this is equal to adder=adderr+c\n",
    "    if C%2==0:\n",
    "        print(C*10)#says divide this number by 2 and checl if its 0 or not\n",
    "    else:\n",
    "        print(C)\n",
    "    print(Adder)"
   ]
  },
  {
   "cell_type": "code",
   "execution_count": null,
   "id": "2e615c40",
   "metadata": {},
   "outputs": [],
   "source": [
    "#Q\n",
    "25= val\n",
    "for I in the range (0,Val):\n",
    "if I%2==0:\n",
    "print(I+1)\n",
    "Else:\n",
    "print(I-1)"
   ]
  },
  {
   "cell_type": "code",
   "execution_count": 15,
   "id": "887d1216",
   "metadata": {},
   "outputs": [
    {
     "name": "stdout",
     "output_type": "stream",
     "text": [
      "1\n",
      "0\n",
      "3\n",
      "2\n",
      "5\n",
      "4\n",
      "7\n",
      "6\n",
      "9\n",
      "8\n",
      "11\n",
      "10\n",
      "13\n",
      "12\n",
      "15\n",
      "14\n",
      "17\n",
      "16\n",
      "19\n",
      "18\n",
      "21\n",
      "20\n",
      "23\n",
      "22\n",
      "25\n"
     ]
    }
   ],
   "source": [
    "Val=25\n",
    "for I in range (0,Val):\n",
    "    if I%2==0:\n",
    "        print(I+1)\n",
    "    else:\n",
    "        print(I-1)"
   ]
  },
  {
   "cell_type": "markdown",
   "id": "a5b1a626",
   "metadata": {},
   "source": [
    "## Output Finding"
   ]
  },
  {
   "cell_type": "code",
   "execution_count": 17,
   "id": "47f12880",
   "metadata": {},
   "outputs": [
    {
     "ename": "SyntaxError",
     "evalue": "invalid syntax (4199382514.py, line 1)",
     "output_type": "error",
     "traceback": [
      "\u001b[1;36m  Input \u001b[1;32mIn [17]\u001b[1;36m\u001b[0m\n\u001b[1;33m    p=\u001b[0m\n\u001b[1;37m      ^\u001b[0m\n\u001b[1;31mSyntaxError\u001b[0m\u001b[1;31m:\u001b[0m invalid syntax\n"
     ]
    }
   ],
   "source": [
    "p=\n",
    "10\n",
    "q=\n",
    "20\n",
    "p*q=q//2\n",
    "q+=p=q*\n",
    "*2\n",
    "print(p,\n",
    "q)\n",
    "#the answer for this was error"
   ]
  },
  {
   "cell_type": "code",
   "execution_count": null,
   "id": "b122427c",
   "metadata": {},
   "outputs": [],
   "source": [
    "#Q\n",
    "String Str=\"Computer\"\n",
    "Str[-4:]\n",
    "Str*2\n",
    "#the answer was error"
   ]
  },
  {
   "cell_type": "code",
   "execution_count": 21,
   "id": "3c7678fe",
   "metadata": {},
   "outputs": [
    {
     "data": {
      "text/plain": [
       "'ComputerComputer'"
      ]
     },
     "execution_count": 21,
     "metadata": {},
     "output_type": "execute_result"
    }
   ],
   "source": [
    "#an example, not the qtn\n",
    "Str=\"Computer\"\n",
    "#Str[4:]\n",
    "Str*2"
   ]
  },
  {
   "cell_type": "code",
   "execution_count": 1,
   "id": "c10e2f75",
   "metadata": {},
   "outputs": [
    {
     "data": {
      "text/plain": [
       "'uter'"
      ]
     },
     "execution_count": 1,
     "metadata": {},
     "output_type": "execute_result"
    }
   ],
   "source": [
    "#an example, not the qtn\n",
    "Str=\"Computer\"\n",
    "Str[4:]\n",
    "#Str*2"
   ]
  },
  {
   "cell_type": "code",
   "execution_count": 2,
   "id": "312159c9",
   "metadata": {},
   "outputs": [
    {
     "name": "stdout",
     "output_type": "stream",
     "text": [
      "15\n"
     ]
    },
    {
     "ename": "NameError",
     "evalue": "name 'y' is not defined",
     "output_type": "error",
     "traceback": [
      "\u001b[1;31m---------------------------------------------------------------------------\u001b[0m",
      "\u001b[1;31mNameError\u001b[0m                                 Traceback (most recent call last)",
      "Input \u001b[1;32mIn [2]\u001b[0m, in \u001b[0;36m<cell line: 5>\u001b[1;34m()\u001b[0m\n\u001b[0;32m      3\u001b[0m x\u001b[38;5;241m=\u001b[39mx\u001b[38;5;241m-\u001b[39m\u001b[38;5;241m10\u001b[39m\n\u001b[0;32m      4\u001b[0m \u001b[38;5;28mprint\u001b[39m(x)\n\u001b[1;32m----> 5\u001b[0m x,\u001b[43my\u001b[49m\n",
      "\u001b[1;31mNameError\u001b[0m: name 'y' is not defined"
     ]
    }
   ],
   "source": [
    "x=20\n",
    "x=x+5\n",
    "x=x-10\n",
    "print(x)\n",
    "x,y"
   ]
  },
  {
   "cell_type": "code",
   "execution_count": 3,
   "id": "0461617a",
   "metadata": {},
   "outputs": [
    {
     "data": {
      "text/plain": [
       "15"
      ]
     },
     "execution_count": 3,
     "metadata": {},
     "output_type": "execute_result"
    }
   ],
   "source": [
    "x"
   ]
  },
  {
   "cell_type": "code",
   "execution_count": 28,
   "id": "f8e82d91",
   "metadata": {},
   "outputs": [
    {
     "data": {
      "text/plain": [
       "134.93333333333334"
      ]
     },
     "execution_count": 28,
     "metadata": {},
     "output_type": "execute_result"
    }
   ],
   "source": [
    "#three people eat dinner at a restaurant and want to split the bill the total is 352, and they want to leave a 15% tipe, \n",
    "#how much shud each person pay\n",
    "total=352\n",
    "p=total*0.15\n",
    "f=total+p\n",
    "a=f/3\n",
    "a"
   ]
  },
  {
   "cell_type": "code",
   "execution_count": 31,
   "id": "c1fd42a2",
   "metadata": {},
   "outputs": [
    {
     "name": "stdout",
     "output_type": "stream",
     "text": [
      "perimeter of a rectangular room= 58.4\n"
     ]
    }
   ],
   "source": [
    "#calculate the area and perimeter of a rectangle room, 12.5 meters by 16.7 meters .\n",
    "l=12.5\n",
    "b=16.7\n",
    "p=2*(l+b)\n",
    "print(\"perimeter of a rectangular room=\",p)"
   ]
  },
  {
   "cell_type": "code",
   "execution_count": 32,
   "id": "bd54550a",
   "metadata": {},
   "outputs": [
    {
     "name": "stdout",
     "output_type": "stream",
     "text": [
      "total ninjas are 75\n",
      "total samurai are 80\n",
      "all together 155\n"
     ]
    }
   ],
   "source": [
    "#if there are 3 buildings and 25 ninjas hiding om each roof and 2 tunnels with 40 samurai hiding each tunnel,\n",
    "#how many ninjas and samurai are about to battle\n",
    "b=3\n",
    "nh=25\n",
    "tn=b*nh\n",
    "print(\"total ninjas are\",tn)\n",
    "tl=2\n",
    "s=40\n",
    "ts=tl*s\n",
    "print(\"total samurai are\", ts)\n",
    "print(\"all together\", tn+ts)"
   ]
  },
  {
   "cell_type": "code",
   "execution_count": 33,
   "id": "499c9416",
   "metadata": {},
   "outputs": [
    {
     "data": {
      "text/plain": [
       "523.3333333333334"
      ]
     },
     "execution_count": 33,
     "metadata": {},
     "output_type": "execute_result"
    }
   ],
   "source": [
    "#the volume of a sphere with radius r is 4/3pir3. what is the volume of a sphere with radius 5?\n",
    "#hints pi is abt 3.14\n",
    "r=5\n",
    "v=(4/3)*3.14*(r**3)\n",
    "v"
   ]
  },
  {
   "cell_type": "code",
   "execution_count": 36,
   "id": "f0ebcdc2",
   "metadata": {},
   "outputs": [
    {
     "data": {
      "text/plain": [
       "9879.0"
      ]
     },
     "execution_count": 36,
     "metadata": {},
     "output_type": "execute_result"
    }
   ],
   "source": [
    "#suppose the cover price of a book is 249\n",
    "#but bookstores get a 40%discount\n",
    "#shipping cost 30 for the 1st copy\n",
    "#rs 15 fpr each additional copy\n",
    "# what is the total cost for 60 copies\n",
    "bookcover=249\n",
    "discount=bookcover*0.4\n",
    "sh_cost=30+(59*15)\n",
    "total=(bookcover*60)-discount*60+sh_cost\n",
    "total"
   ]
  },
  {
   "cell_type": "markdown",
   "id": "a7789c0b",
   "metadata": {},
   "source": [
    "## math "
   ]
  },
  {
   "cell_type": "code",
   "execution_count": 37,
   "id": "6bbbbed4",
   "metadata": {},
   "outputs": [
    {
     "data": {
      "text/plain": [
       "35"
      ]
     },
     "execution_count": 37,
     "metadata": {},
     "output_type": "execute_result"
    }
   ],
   "source": [
    "(3+4)*5"
   ]
  },
  {
   "cell_type": "code",
   "execution_count": 38,
   "id": "16742c89",
   "metadata": {},
   "outputs": [
    {
     "data": {
      "text/plain": [
       "3.0"
      ]
     },
     "execution_count": 38,
     "metadata": {},
     "output_type": "execute_result"
    }
   ],
   "source": [
    "n=3\n",
    "r=(n*(n-1))/2\n",
    "r"
   ]
  },
  {
   "cell_type": "code",
   "execution_count": 41,
   "id": "9764b884",
   "metadata": {},
   "outputs": [
    {
     "data": {
      "text/plain": [
       "113.04"
      ]
     },
     "execution_count": 41,
     "metadata": {},
     "output_type": "execute_result"
    }
   ],
   "source": [
    "#4pi r square\n",
    "#if r\n",
    "R = 4*3.14*3**2\n",
    "R"
   ]
  },
  {
   "cell_type": "code",
   "execution_count": null,
   "id": "0372f4bb",
   "metadata": {},
   "outputs": [],
   "source": []
  }
 ],
 "metadata": {
  "kernelspec": {
   "display_name": "Python 3 (ipykernel)",
   "language": "python",
   "name": "python3"
  },
  "language_info": {
   "codemirror_mode": {
    "name": "ipython",
    "version": 3
   },
   "file_extension": ".py",
   "mimetype": "text/x-python",
   "name": "python",
   "nbconvert_exporter": "python",
   "pygments_lexer": "ipython3",
   "version": "3.9.12"
  }
 },
 "nbformat": 4,
 "nbformat_minor": 5
}
