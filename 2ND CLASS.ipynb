{
 "cells": [
  {
   "cell_type": "markdown",
   "id": "aadaa66a",
   "metadata": {},
   "source": [
    "# PROGRAM 1 \n",
    "\n",
    "### FEB 14 2024"
   ]
  },
  {
   "cell_type": "code",
   "execution_count": 1,
   "id": "fa9ef1f4",
   "metadata": {},
   "outputs": [
    {
     "name": "stdout",
     "output_type": "stream",
     "text": [
      "The Zen of Python, by Tim Peters\n",
      "\n",
      "Beautiful is better than ugly.\n",
      "Explicit is better than implicit.\n",
      "Simple is better than complex.\n",
      "Complex is better than complicated.\n",
      "Flat is better than nested.\n",
      "Sparse is better than dense.\n",
      "Readability counts.\n",
      "Special cases aren't special enough to break the rules.\n",
      "Although practicality beats purity.\n",
      "Errors should never pass silently.\n",
      "Unless explicitly silenced.\n",
      "In the face of ambiguity, refuse the temptation to guess.\n",
      "There should be one-- and preferably only one --obvious way to do it.\n",
      "Although that way may not be obvious at first unless you're Dutch.\n",
      "Now is better than never.\n",
      "Although never is often better than *right* now.\n",
      "If the implementation is hard to explain, it's a bad idea.\n",
      "If the implementation is easy to explain, it may be a good idea.\n",
      "Namespaces are one honking great idea -- let's do more of those!\n"
     ]
    }
   ],
   "source": [
    "import this"
   ]
  },
  {
   "cell_type": "code",
   "execution_count": 2,
   "id": "402a7dc9",
   "metadata": {},
   "outputs": [
    {
     "data": {
      "text/plain": [
       "20"
      ]
     },
     "execution_count": 2,
     "metadata": {},
     "output_type": "execute_result"
    }
   ],
   "source": [
    "#beautiful is better than ugly\n",
    "a=10\n",
    "b=10\n",
    "a+b"
   ]
  },
  {
   "cell_type": "code",
   "execution_count": 3,
   "id": "b84b79c9",
   "metadata": {},
   "outputs": [],
   "source": [
    "#avoid too many level of nesting "
   ]
  },
  {
   "cell_type": "code",
   "execution_count": 4,
   "id": "1fb9602f",
   "metadata": {},
   "outputs": [],
   "source": [
    "%quickref"
   ]
  },
  {
   "cell_type": "code",
   "execution_count": 5,
   "id": "6ab60bdf",
   "metadata": {},
   "outputs": [],
   "source": [
    "#the above code gives helper for document??"
   ]
  },
  {
   "cell_type": "markdown",
   "id": "78e76462",
   "metadata": {},
   "source": [
    "#### syntax of language"
   ]
  },
  {
   "cell_type": "code",
   "execution_count": 6,
   "id": "0647ae6a",
   "metadata": {},
   "outputs": [],
   "source": [
    "# a code line that shows the result og 7 times 3 "
   ]
  },
  {
   "cell_type": "code",
   "execution_count": 7,
   "id": "77d879e7",
   "metadata": {},
   "outputs": [
    {
     "name": "stdout",
     "output_type": "stream",
     "text": [
      "35\n"
     ]
    }
   ],
   "source": [
    "#print is abuilt in function, so use paranthesis\n",
    "print(7*5)"
   ]
  },
  {
   "cell_type": "code",
   "execution_count": 8,
   "id": "1bbf179c",
   "metadata": {},
   "outputs": [
    {
     "data": {
      "text/plain": [
       "range(1, 11)"
      ]
     },
     "execution_count": 8,
     "metadata": {},
     "output_type": "execute_result"
    }
   ],
   "source": [
    "#examples of broken lines\n",
    "c=range(1,\n",
    "11)\n",
    "c"
   ]
  },
  {
   "cell_type": "code",
   "execution_count": 10,
   "id": "c467a31f",
   "metadata": {},
   "outputs": [
    {
     "data": {
      "text/plain": [
       "23.5"
      ]
     },
     "execution_count": 10,
     "metadata": {},
     "output_type": "execute_result"
    }
   ],
   "source": [
    "# a line broken by backslash\n",
    "a=7*3+\\\n",
    "5/2\n",
    "a "
   ]
  },
  {
   "cell_type": "code",
   "execution_count": 11,
   "id": "1e4f2e53",
   "metadata": {},
   "outputs": [],
   "source": [
    "#data structures like list, map.o, tree, group, dictionary, taple, array"
   ]
  },
  {
   "cell_type": "code",
   "execution_count": 2,
   "id": "2d0df81c",
   "metadata": {},
   "outputs": [
    {
     "data": {
      "text/plain": [
       "['a', 'b', 'c', 'd', 'e']"
      ]
     },
     "execution_count": 2,
     "metadata": {},
     "output_type": "execute_result"
    }
   ],
   "source": [
    "# list (broken by commas)\n",
    "b=['a','b','c',\n",
    "'d','e']\n",
    "b"
   ]
  },
  {
   "cell_type": "code",
   "execution_count": 14,
   "id": "85a39dbd",
   "metadata": {},
   "outputs": [],
   "source": [
    "# a function call(broken by comma)\n",
    "c=range(1,\n",
    "11)"
   ]
  },
  {
   "cell_type": "code",
   "execution_count": 15,
   "id": "2f281749",
   "metadata": {},
   "outputs": [
    {
     "name": "stdout",
     "output_type": "stream",
     "text": [
      "23.5 ['a', 'b', 'c', 'd', 'e'] range(1, 11)\n"
     ]
    }
   ],
   "source": [
    "#prints everything\n",
    "print(a,b,c)"
   ]
  },
  {
   "cell_type": "code",
   "execution_count": 4,
   "id": "4e7d90cd",
   "metadata": {},
   "outputs": [
    {
     "name": "stdout",
     "output_type": "stream",
     "text": [
      "Enter n10\n",
      "0 Even Number\n",
      "Odd Number\n",
      "2 Even Number\n",
      "Odd Number\n",
      "4 Even Number\n",
      "Odd Number\n",
      "6 Even Number\n",
      "Odd Number\n",
      "8 Even Number\n",
      "Odd Number\n"
     ]
    }
   ],
   "source": [
    "#loop\n",
    "n= int(input(\"Enter n\"))\n",
    "#range function always starts with 0\n",
    "for i in range(n):\n",
    "    if(i%2==0):\n",
    "        print(i,\"Even Number\")\n",
    "    else:\n",
    "        print(\"Odd Number\")"
   ]
  },
  {
   "cell_type": "code",
   "execution_count": 19,
   "id": "36625843",
   "metadata": {},
   "outputs": [
    {
     "name": "stdout",
     "output_type": "stream",
     "text": [
      "Enter n10\n",
      "0 Even Number\n",
      "1 Odd Number\n",
      "2 Even Number\n",
      "3 Odd Number\n",
      "4 Even Number\n",
      "5 Odd Number\n",
      "6 Even Number\n",
      "7 Odd Number\n",
      "8 Even Number\n",
      "9 Odd Number\n"
     ]
    }
   ],
   "source": [
    "n= int(input(\"Enter n\"))\n",
    "#range function always starts with 0\n",
    "for i in range(n):\n",
    "    if(i%2==0):\n",
    "        print(i,\"Even Number\")\n",
    "    else:\n",
    "        print(i,\"Odd Number\")"
   ]
  },
  {
   "cell_type": "code",
   "execution_count": 20,
   "id": "7577ad55",
   "metadata": {},
   "outputs": [],
   "source": [
    "#the operator % computes the modulus (remainder of division)"
   ]
  },
  {
   "cell_type": "code",
   "execution_count": 21,
   "id": "6fbb5574",
   "metadata": {},
   "outputs": [
    {
     "name": "stdout",
     "output_type": "stream",
     "text": [
      "234 /3= 78.0\n",
      "654 /3= 218.0\n",
      "378 /3= 126.0\n",
      "798 /3= 266.0\n"
     ]
    }
   ],
   "source": [
    "#for i on the list 234,654,378,798:\n",
    "for i in [234,654,378,798]:\n",
    "    # if the remainder dividing by 3 is equal to 0:\n",
    "    if i%3==0:\n",
    "        #prints...\n",
    "        print(i,'/3=',i/3)"
   ]
  },
  {
   "cell_type": "code",
   "execution_count": 23,
   "id": "14414e0b",
   "metadata": {
    "scrolled": true
   },
   "outputs": [
    {
     "name": "stdout",
     "output_type": "stream",
     "text": [
      "Enter Salary25000\n"
     ]
    }
   ],
   "source": [
    "Salary=int(input(\"Enter Salary\"))"
   ]
  },
  {
   "cell_type": "code",
   "execution_count": 24,
   "id": "bcba7cfd",
   "metadata": {},
   "outputs": [
    {
     "data": {
      "text/plain": [
       "6250.0"
      ]
     },
     "execution_count": 24,
     "metadata": {},
     "output_type": "execute_result"
    }
   ],
   "source": [
    "Salary*0.25"
   ]
  },
  {
   "cell_type": "code",
   "execution_count": 25,
   "id": "a75b8dc1",
   "metadata": {},
   "outputs": [
    {
     "data": {
      "text/plain": [
       "31250.0"
      ]
     },
     "execution_count": 25,
     "metadata": {},
     "output_type": "execute_result"
    }
   ],
   "source": [
    "Hike=Salary+(Salary*0.25)\n",
    "Hike"
   ]
  },
  {
   "cell_type": "code",
   "execution_count": 26,
   "id": "2dbe3402",
   "metadata": {},
   "outputs": [
    {
     "data": {
      "text/plain": [
       "1250.0"
      ]
     },
     "execution_count": 26,
     "metadata": {},
     "output_type": "execute_result"
    }
   ],
   "source": [
    "Deduction= Salary*0.05\n",
    "Deduction"
   ]
  },
  {
   "cell_type": "code",
   "execution_count": 27,
   "id": "ca41f5a5",
   "metadata": {},
   "outputs": [
    {
     "name": "stdout",
     "output_type": "stream",
     "text": [
      "Net Salary = 30000.0\n"
     ]
    }
   ],
   "source": [
    "NetSalary=Hike-Deduction\n",
    "print(\"Net Salary =\", NetSalary)"
   ]
  },
  {
   "cell_type": "code",
   "execution_count": 28,
   "id": "4a918922",
   "metadata": {},
   "outputs": [
    {
     "name": "stdout",
     "output_type": "stream",
     "text": [
      "Enter Salary10000\n",
      "Net Salary = 12000.0\n"
     ]
    }
   ],
   "source": [
    "Salary=int(input(\"Enter Salary\"))\n",
    "Salary*0.25\n",
    "Hike=Salary+(Salary*0.25)\n",
    "Hike\n",
    "Deduction= Salary*0.05\n",
    "Deduction\n",
    "NetSalary=Hike-Deduction\n",
    "print(\"Net Salary =\", NetSalary)"
   ]
  },
  {
   "cell_type": "code",
   "execution_count": 29,
   "id": "7d69d5b0",
   "metadata": {},
   "outputs": [],
   "source": [
    "#the above was after merging the codes (copy pasted)"
   ]
  },
  {
   "cell_type": "code",
   "execution_count": 32,
   "id": "69f15767",
   "metadata": {
    "scrolled": true
   },
   "outputs": [
    {
     "name": "stdout",
     "output_type": "stream",
     "text": [
      "Enter Number10\n"
     ]
    }
   ],
   "source": [
    "a=int(input(\"Enter Number\"))"
   ]
  },
  {
   "cell_type": "code",
   "execution_count": 33,
   "id": "2c96a56e",
   "metadata": {},
   "outputs": [],
   "source": [
    "p=4*a"
   ]
  },
  {
   "cell_type": "code",
   "execution_count": 34,
   "id": "ae51a52c",
   "metadata": {},
   "outputs": [
    {
     "name": "stdout",
     "output_type": "stream",
     "text": [
      "Perimeter 40\n"
     ]
    }
   ],
   "source": [
    "print(\"Perimeter\",p)"
   ]
  },
  {
   "cell_type": "code",
   "execution_count": 39,
   "id": "25996d5f",
   "metadata": {},
   "outputs": [
    {
     "name": "stdout",
     "output_type": "stream",
     "text": [
      "Enter Number2\n"
     ]
    }
   ],
   "source": [
    "#perimeter of rectangle \n",
    "l=int(input(\"Enter Number\"))"
   ]
  },
  {
   "cell_type": "code",
   "execution_count": 40,
   "id": "71c94d72",
   "metadata": {},
   "outputs": [
    {
     "name": "stdout",
     "output_type": "stream",
     "text": [
      "Enter Number4\n",
      "Perimeter of Rectangle 12\n"
     ]
    }
   ],
   "source": [
    "b=int(input(\"Enter Number\"))\n",
    "p=2*(l+b)\n",
    "print(\"Perimeter of Rectangle\", p)"
   ]
  },
  {
   "cell_type": "code",
   "execution_count": 7,
   "id": "19f174ea",
   "metadata": {},
   "outputs": [
    {
     "name": "stdout",
     "output_type": "stream",
     "text": [
      "Enter Number pi10\n",
      "Enter Radius5\n",
      "circumference 100\n"
     ]
    }
   ],
   "source": [
    "#circumference of circle\n",
    "pi=int(input(\"Enter Number pi\"))\n",
    "r=int(input(\"Enter Radius\"))\n",
    "c =2*pi*r\n",
    "print(\"circumference\", c)"
   ]
  },
  {
   "cell_type": "markdown",
   "id": "78665d84",
   "metadata": {},
   "source": [
    "##### conversions required in some questions\n",
    "##### converting a distance from foot to inches\n"
   ]
  },
  {
   "cell_type": "code",
   "execution_count": 44,
   "id": "805380a4",
   "metadata": {},
   "outputs": [
    {
     "name": "stdout",
     "output_type": "stream",
     "text": [
      "Enter Foots10\n",
      "Foots: 10 ------------ Inches 120\n"
     ]
    }
   ],
   "source": [
    "#1 foot = 12 inches\n",
    "F= int(input(\"Enter Foots\"))\n",
    "inc=F*12\n",
    "print(\"Foots:\",F,\"------------\",\"Inches\",inc)\n"
   ]
  },
  {
   "cell_type": "markdown",
   "id": "c2a3c905",
   "metadata": {},
   "source": [
    "##### from inches to foot"
   ]
  },
  {
   "cell_type": "code",
   "execution_count": 46,
   "id": "2438923c",
   "metadata": {},
   "outputs": [
    {
     "name": "stdout",
     "output_type": "stream",
     "text": [
      "enter inches120\n",
      "inches: 120 -------------- foots 10.0\n"
     ]
    }
   ],
   "source": [
    "#from inches to foot\n",
    "inc=int(input(\"enter inches\"))\n",
    "f=inc/12\n",
    "print(\"inches:\",inc,\"--------------\",\"foots\",f)"
   ]
  },
  {
   "cell_type": "markdown",
   "id": "8e0614be",
   "metadata": {},
   "source": [
    "###### converting area\n",
    "###### converting square foot to square inches"
   ]
  },
  {
   "cell_type": "code",
   "execution_count": 47,
   "id": "68197162",
   "metadata": {},
   "outputs": [],
   "source": [
    "#1 square foot=144 square inches"
   ]
  },
  {
   "cell_type": "code",
   "execution_count": 48,
   "id": "d29eef9c",
   "metadata": {},
   "outputs": [
    {
     "name": "stdout",
     "output_type": "stream",
     "text": [
      "Enter Square Foots10\n",
      "Square Foots: 10 ------------ Square Inches 1440\n"
     ]
    }
   ],
   "source": [
    "SF= int(input(\"Enter Square Foots\"))\n",
    "S_inc=F*144\n",
    "print(\"Square Foots:\",SF,\"------------\",\"Square Inches\",S_inc)"
   ]
  },
  {
   "cell_type": "code",
   "execution_count": 50,
   "id": "b68df136",
   "metadata": {},
   "outputs": [
    {
     "name": "stdout",
     "output_type": "stream",
     "text": [
      "enter Sq inches1440\n",
      "Sq inches: 1440 -------------- Sq_foots 10.0\n"
     ]
    }
   ],
   "source": [
    "#from square inches to square foot\n",
    "S_inc=int(input(\"enter Sq inches\"))\n",
    "S_f=S_inc/144\n",
    "print(\"Sq inches:\",S_inc,\"--------------\",\"Sq_foots\",S_f)"
   ]
  },
  {
   "cell_type": "markdown",
   "id": "6bde54ba",
   "metadata": {},
   "source": [
    "### Data types"
   ]
  },
  {
   "cell_type": "code",
   "execution_count": 82,
   "id": "acde45c2",
   "metadata": {},
   "outputs": [
    {
     "data": {
      "text/plain": [
       "(3+4j)"
      ]
     },
     "execution_count": 82,
     "metadata": {},
     "output_type": "execute_result"
    }
   ],
   "source": [
    "c=3+4j\n",
    "c"
   ]
  },
  {
   "cell_type": "code",
   "execution_count": 1,
   "id": "83c682b9",
   "metadata": {},
   "outputs": [
    {
     "name": "stdout",
     "output_type": "stream",
     "text": [
      "c= (3+4j)\n",
      "Real Part 3.0\n",
      "Imaginary Part 4.0\n",
      "Conjugate (3-4j)\n"
     ]
    }
   ],
   "source": [
    "#complex number\n",
    "c=3+4j\n",
    "print('c=',c)\n",
    "print('Real Part',c.real)\n",
    "print('Imaginary Part',c.imag)\n",
    "print('Conjugate',c.conjugate())"
   ]
  },
  {
   "cell_type": "code",
   "execution_count": 1,
   "id": "e61bbcd1",
   "metadata": {},
   "outputs": [
    {
     "name": "stdout",
     "output_type": "stream",
     "text": [
      "int(3.14)= 3\n"
     ]
    }
   ],
   "source": [
    "#converting real to integer\n",
    "print('int(3.14)=',int(3.14))"
   ]
  },
  {
   "cell_type": "code",
   "execution_count": 3,
   "id": "ef1d513a",
   "metadata": {},
   "outputs": [
    {
     "name": "stdout",
     "output_type": "stream",
     "text": [
      "float(5)= 5.0\n"
     ]
    }
   ],
   "source": [
    "#converting integer to real\n",
    "print('float(5)=',float(5))"
   ]
  },
  {
   "cell_type": "code",
   "execution_count": 4,
   "id": "3bcccccd",
   "metadata": {},
   "outputs": [
    {
     "name": "stdout",
     "output_type": "stream",
     "text": [
      "5.0/2+3= 5.5\n"
     ]
    }
   ],
   "source": [
    "#calculation between integer and real results in real\n",
    "print('5.0/2+3=',5.0/2+3)"
   ]
  },
  {
   "cell_type": "code",
   "execution_count": 5,
   "id": "519e59ff",
   "metadata": {},
   "outputs": [
    {
     "name": "stdout",
     "output_type": "stream",
     "text": [
      "int('20',8)= 16\n"
     ]
    }
   ],
   "source": [
    "#integers in other base\n",
    "print(\"int('20',8)=\", int('20',8))#base 8\n",
    "#multiplying with the power of 8-octal system"
   ]
  },
  {
   "cell_type": "code",
   "execution_count": 6,
   "id": "52037fc0",
   "metadata": {},
   "outputs": [
    {
     "name": "stdout",
     "output_type": "stream",
     "text": [
      "int('20',16)= 32\n"
     ]
    }
   ],
   "source": [
    "print(\"int('20',16)=\", int('20',16))#base 16\n",
    "#multiplying with the power of 16-hexadecimal sys?"
   ]
  },
  {
   "cell_type": "code",
   "execution_count": 7,
   "id": "0ec9f258",
   "metadata": {},
   "outputs": [
    {
     "name": "stdout",
     "output_type": "stream",
     "text": [
      "int('41',16)= 65\n"
     ]
    }
   ],
   "source": [
    "print(\"int('41',16)=\", int('41',16))"
   ]
  },
  {
   "cell_type": "code",
   "execution_count": 8,
   "id": "41bd17df",
   "metadata": {},
   "outputs": [
    {
     "name": "stdout",
     "output_type": "stream",
     "text": [
      "int('41',8)= 33\n"
     ]
    }
   ],
   "source": [
    "print(\"int('41',8)=\", int('41',8))"
   ]
  },
  {
   "cell_type": "code",
   "execution_count": 9,
   "id": "ec4921c5",
   "metadata": {},
   "outputs": [],
   "source": [
    "#Bitwise operations\n",
    "#left shift(<<)\n",
    "#right shift(>>)\n",
    "#and(&)\n",
    "#or|\n",
    "#exclusive or(^)\n",
    "#inversion(~)"
   ]
  },
  {
   "cell_type": "code",
   "execution_count": 10,
   "id": "3fa2d1e1",
   "metadata": {},
   "outputs": [],
   "source": [
    "a=7#0111 in binary form\n",
    "b=9#1001 in binary form"
   ]
  },
  {
   "cell_type": "code",
   "execution_count": 11,
   "id": "38f52b94",
   "metadata": {},
   "outputs": [
    {
     "data": {
      "text/plain": [
       "3"
      ]
     },
     "execution_count": 11,
     "metadata": {},
     "output_type": "execute_result"
    }
   ],
   "source": [
    "a>>1"
   ]
  },
  {
   "cell_type": "code",
   "execution_count": 13,
   "id": "a99b0669",
   "metadata": {},
   "outputs": [
    {
     "data": {
      "text/plain": [
       "14"
      ]
     },
     "execution_count": 13,
     "metadata": {},
     "output_type": "execute_result"
    }
   ],
   "source": [
    "a<<1"
   ]
  },
  {
   "cell_type": "code",
   "execution_count": 14,
   "id": "c50b61b2",
   "metadata": {},
   "outputs": [
    {
     "data": {
      "text/plain": [
       "1"
      ]
     },
     "execution_count": 14,
     "metadata": {},
     "output_type": "execute_result"
    }
   ],
   "source": [
    "a>>2"
   ]
  },
  {
   "cell_type": "code",
   "execution_count": 15,
   "id": "fb141b3e",
   "metadata": {},
   "outputs": [
    {
     "data": {
      "text/plain": [
       "28"
      ]
     },
     "execution_count": 15,
     "metadata": {},
     "output_type": "execute_result"
    }
   ],
   "source": [
    "a<<2"
   ]
  },
  {
   "cell_type": "code",
   "execution_count": 16,
   "id": "6a8190b3",
   "metadata": {},
   "outputs": [
    {
     "data": {
      "text/plain": [
       "4"
      ]
     },
     "execution_count": 16,
     "metadata": {},
     "output_type": "execute_result"
    }
   ],
   "source": [
    "b>>1"
   ]
  },
  {
   "cell_type": "code",
   "execution_count": 17,
   "id": "2215aad4",
   "metadata": {},
   "outputs": [
    {
     "data": {
      "text/plain": [
       "18"
      ]
     },
     "execution_count": 17,
     "metadata": {},
     "output_type": "execute_result"
    }
   ],
   "source": [
    "b<<1"
   ]
  },
  {
   "cell_type": "code",
   "execution_count": 18,
   "id": "a8c1cce7",
   "metadata": {},
   "outputs": [],
   "source": [
    "# & means multiplication"
   ]
  },
  {
   "cell_type": "code",
   "execution_count": 19,
   "id": "268cb18c",
   "metadata": {},
   "outputs": [
    {
     "data": {
      "text/plain": [
       "1"
      ]
     },
     "execution_count": 19,
     "metadata": {},
     "output_type": "execute_result"
    }
   ],
   "source": [
    "a&b"
   ]
  },
  {
   "cell_type": "code",
   "execution_count": 20,
   "id": "9ae14039",
   "metadata": {},
   "outputs": [
    {
     "data": {
      "text/plain": [
       "15"
      ]
     },
     "execution_count": 20,
     "metadata": {},
     "output_type": "execute_result"
    }
   ],
   "source": [
    "a|b"
   ]
  },
  {
   "cell_type": "code",
   "execution_count": 21,
   "id": "6b2a23db",
   "metadata": {},
   "outputs": [
    {
     "data": {
      "text/plain": [
       "-8"
      ]
     },
     "execution_count": 21,
     "metadata": {},
     "output_type": "execute_result"
    }
   ],
   "source": [
    "~a\n",
    "#0111 becomes 1000 and negative"
   ]
  },
  {
   "cell_type": "code",
   "execution_count": 22,
   "id": "1f16cd8d",
   "metadata": {},
   "outputs": [
    {
     "data": {
      "text/plain": [
       "14"
      ]
     },
     "execution_count": 22,
     "metadata": {},
     "output_type": "execute_result"
    }
   ],
   "source": [
    "a^b"
   ]
  },
  {
   "cell_type": "code",
   "execution_count": 23,
   "id": "67961916",
   "metadata": {},
   "outputs": [
    {
     "data": {
      "text/plain": [
       "35"
      ]
     },
     "execution_count": 23,
     "metadata": {},
     "output_type": "execute_result"
    }
   ],
   "source": [
    "a=34.56565\n",
    "round(a)"
   ]
  },
  {
   "cell_type": "code",
   "execution_count": 25,
   "id": "37239dd7",
   "metadata": {},
   "outputs": [
    {
     "data": {
      "text/plain": [
       "9.34"
      ]
     },
     "execution_count": 25,
     "metadata": {},
     "output_type": "execute_result"
    }
   ],
   "source": [
    "b= -9.34\n",
    "abs(b)"
   ]
  },
  {
   "cell_type": "code",
   "execution_count": 27,
   "id": "5bf67e85",
   "metadata": {},
   "outputs": [
    {
     "data": {
      "text/plain": [
       "27"
      ]
     },
     "execution_count": 27,
     "metadata": {},
     "output_type": "execute_result"
    }
   ],
   "source": [
    "c=3\n",
    "pow(c,3)\n",
    "#3*3*3"
   ]
  },
  {
   "cell_type": "code",
   "execution_count": 28,
   "id": "cfa76e92",
   "metadata": {},
   "outputs": [
    {
     "data": {
      "text/plain": [
       "34"
      ]
     },
     "execution_count": 28,
     "metadata": {},
     "output_type": "execute_result"
    }
   ],
   "source": [
    "a=34.2035\n",
    "round(a)"
   ]
  },
  {
   "cell_type": "code",
   "execution_count": 30,
   "id": "367313fe",
   "metadata": {},
   "outputs": [
    {
     "data": {
      "text/plain": [
       "'0o30'"
      ]
     },
     "execution_count": 30,
     "metadata": {},
     "output_type": "execute_result"
    }
   ],
   "source": [
    "oct(24)#converting any decimal number to equivalent octal number"
   ]
  },
  {
   "cell_type": "code",
   "execution_count": 31,
   "id": "e6e2f0f1",
   "metadata": {},
   "outputs": [
    {
     "data": {
      "text/plain": [
       "'0x18'"
      ]
     },
     "execution_count": 31,
     "metadata": {},
     "output_type": "execute_result"
    }
   ],
   "source": [
    "hex(24)#converting any decimal number to equivalent hexadecimal number"
   ]
  },
  {
   "cell_type": "code",
   "execution_count": 32,
   "id": "1423dc68",
   "metadata": {},
   "outputs": [
    {
     "data": {
      "text/plain": [
       "'0o24'"
      ]
     },
     "execution_count": 32,
     "metadata": {},
     "output_type": "execute_result"
    }
   ],
   "source": [
    "oct(20)"
   ]
  },
  {
   "cell_type": "code",
   "execution_count": 34,
   "id": "f7f6a2fc",
   "metadata": {},
   "outputs": [
    {
     "name": "stdout",
     "output_type": "stream",
     "text": [
      "c\n",
      "a\n",
      "m\n",
      "e\n",
      "l\n"
     ]
    }
   ],
   "source": [
    "s=\"camel\"\n",
    "for ch in s:\n",
    "    print(ch)\n",
    "    #here ch is an iterater that is a variable that keeps on changing everytime"
   ]
  },
  {
   "cell_type": "code",
   "execution_count": 36,
   "id": "d020b034",
   "metadata": {},
   "outputs": [
    {
     "name": "stdout",
     "output_type": "stream",
     "text": [
      "0\n",
      "1\n",
      "2\n",
      "3\n",
      "4\n",
      "5\n",
      "6\n"
     ]
    }
   ],
   "source": [
    "for i in range(7):\n",
    "    print (i)"
   ]
  },
  {
   "cell_type": "code",
   "execution_count": 37,
   "id": "28369617",
   "metadata": {
    "scrolled": true
   },
   "outputs": [
    {
     "name": "stdout",
     "output_type": "stream",
     "text": [
      "1\n",
      "2\n",
      "3\n",
      "4\n",
      "5\n",
      "6\n"
     ]
    }
   ],
   "source": [
    "for i in range(1,7):\n",
    "    print (i)"
   ]
  },
  {
   "cell_type": "code",
   "execution_count": 38,
   "id": "0a2bfd92",
   "metadata": {},
   "outputs": [
    {
     "name": "stdout",
     "output_type": "stream",
     "text": [
      "0,1,2,3,4,5,6,"
     ]
    }
   ],
   "source": [
    "for i in range(7):\n",
    "    print (i, end=\",\")\n",
    "    #printing it in sequence form"
   ]
  },
  {
   "cell_type": "code",
   "execution_count": 39,
   "id": "10520a69",
   "metadata": {},
   "outputs": [
    {
     "name": "stdout",
     "output_type": "stream",
     "text": [
      "0+1+2+3+4+5+6+"
     ]
    }
   ],
   "source": [
    "for i in range(7):\n",
    "    print (i, end=\"+\")\n",
    "    #printing it in sequence form"
   ]
  },
  {
   "cell_type": "code",
   "execution_count": 41,
   "id": "93a34021",
   "metadata": {},
   "outputs": [
    {
     "name": "stdout",
     "output_type": "stream",
     "text": [
      "enter n4\n",
      "1.0,0.5,0.3333333333333333,0.3333333333333333,"
     ]
    }
   ],
   "source": [
    "n = int(input(\"enter n\"))\n",
    "s=0\n",
    "for i in range (1,n):\n",
    "    R=1/i\n",
    "    s=s+R\n",
    "    print(R,end=\",\")\n",
    "print(R, end=\",\")\n",
    "        "
   ]
  },
  {
   "cell_type": "code",
   "execution_count": null,
   "id": "ce30e78f",
   "metadata": {},
   "outputs": [],
   "source": []
  }
 ],
 "metadata": {
  "kernelspec": {
   "display_name": "Python 3 (ipykernel)",
   "language": "python",
   "name": "python3"
  },
  "language_info": {
   "codemirror_mode": {
    "name": "ipython",
    "version": 3
   },
   "file_extension": ".py",
   "mimetype": "text/x-python",
   "name": "python",
   "nbconvert_exporter": "python",
   "pygments_lexer": "ipython3",
   "version": "3.9.12"
  }
 },
 "nbformat": 4,
 "nbformat_minor": 5
}
