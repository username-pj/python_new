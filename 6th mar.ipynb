{
 "cells": [
  {
   "cell_type": "markdown",
   "id": "66abb375",
   "metadata": {},
   "source": [
    "# 6 MAR- "
   ]
  },
  {
   "cell_type": "code",
   "execution_count": 1,
   "id": "39ebed46",
   "metadata": {},
   "outputs": [
    {
     "name": "stdout",
     "output_type": "stream",
     "text": [
      "enter username paarvathi\n",
      "enter password python\n"
     ]
    }
   ],
   "source": [
    "username=input(\"enter username\")\n",
    "password=input(\"enter password\")"
   ]
  },
  {
   "cell_type": "code",
   "execution_count": 2,
   "id": "fb1c1f8f",
   "metadata": {},
   "outputs": [
    {
     "name": "stdout",
     "output_type": "stream",
     "text": [
      "enter username1234\n",
      "enter password5678\n"
     ]
    }
   ],
   "source": [
    "username=int(input(\"enter username\"))\n",
    "password=int(input(\"enter password\"))"
   ]
  },
  {
   "cell_type": "code",
   "execution_count": 8,
   "id": "795e1872",
   "metadata": {},
   "outputs": [
    {
     "name": "stdout",
     "output_type": "stream",
     "text": [
      "enter n3\n",
      "enter usernameuma\n",
      "enter password 20\n",
      "username= uma password= 20 \n",
      "---------------------\n",
      "\n",
      "enter username sru\n",
      "enter password 34\n",
      "username=  sru password= 34 \n",
      "---------------------\n",
      "\n"
     ]
    }
   ],
   "source": [
    "n = int(input(\"enter n\"))\n",
    "for i in range(1,n):\n",
    "    username=input(\"enter username\")\n",
    "    password=int(input(\"enter password\"))\n",
    "    print(\"username=\", username, \"password=\",password,\"\\n---------------------\\n\")"
   ]
  },
  {
   "cell_type": "code",
   "execution_count": 5,
   "id": "e8365976",
   "metadata": {},
   "outputs": [
    {
     "name": "stdout",
     "output_type": "stream",
     "text": [
      "Enter How many Members.......? 5\n",
      "Enter Username uma\n",
      "Enter Password 200\n",
      "..................\n",
      "Enter Username yumna\n",
      "Enter Password 300\n",
      "..................\n",
      "Enter Username sri\n",
      "Enter Password 290\n",
      "..................\n",
      "Enter Username shravani\n",
      "Enter Password 890\n",
      "..................\n",
      "Enter Username srushti\n",
      "Enter Password 90\n",
      "..................\n"
     ]
    }
   ],
   "source": [
    "\n",
    "n = int(input(\"Enter How many Members.......? \"))\n",
    "for i in range(n):\n",
    "    User=input(\"Enter Username \")\n",
    "    PWD=input(\"Enter Password \")\n",
    "    print(\"..................\")"
   ]
  },
  {
   "cell_type": "code",
   "execution_count": 6,
   "id": "bb3a9113",
   "metadata": {},
   "outputs": [
    {
     "name": "stdout",
     "output_type": "stream",
     "text": [
      "Enter How many Members.......? 3\n",
      "Enter Username uma\n",
      "Enter Password 12\n",
      "..................\n",
      "Enter Username yum\n",
      "Enter Password 23\n",
      "..................\n",
      "Enter Username sru\n",
      "Enter Password 34\n",
      "..................\n"
     ]
    }
   ],
   "source": [
    "n = int(input(\"Enter How many Members.......? \"))\n",
    "for i in range(n):\n",
    "    User=input(\"Enter Username \")\n",
    "    PWD=int(input(\"Enter Password \"))\n",
    "    print(\"..................\")"
   ]
  },
  {
   "cell_type": "code",
   "execution_count": 9,
   "id": "8fef61c8",
   "metadata": {},
   "outputs": [
    {
     "name": "stdout",
     "output_type": "stream",
     "text": [
      "enter user namemehak\n",
      "enter password 1234\n"
     ]
    }
   ],
   "source": [
    "usr=input(\"enter user name\")\n",
    "psw=int(input(\"enter password \"))"
   ]
  },
  {
   "cell_type": "code",
   "execution_count": 10,
   "id": "92e4f47b",
   "metadata": {},
   "outputs": [
    {
     "name": "stdout",
     "output_type": "stream",
     "text": [
      "user name: mehak \n",
      " password: 1234\n"
     ]
    }
   ],
   "source": [
    "print(\"user name:\", usr,\"\\n\",\"password:\", psw)"
   ]
  },
  {
   "cell_type": "code",
   "execution_count": 12,
   "id": "a33f331b",
   "metadata": {},
   "outputs": [
    {
     "name": "stdout",
     "output_type": "stream",
     "text": [
      "enter n 2\n",
      "enter user namemehak\n",
      "enter password 20\n",
      "user name: mehak \n",
      " password: 20\n",
      "enter user nameuma\n",
      "enter password 09\n",
      "user name: uma \n",
      " password: 9\n"
     ]
    }
   ],
   "source": [
    "n= int(input(\"enter n \"))\n",
    "for i in range (n):\n",
    "    usr=input(\"enter user name\")\n",
    "    psw=int(input(\"enter password \"))\n",
    "    print(\"user name:\", usr,\"\\n\",\"password:\", psw)"
   ]
  },
  {
   "cell_type": "code",
   "execution_count": 18,
   "id": "c23a058d",
   "metadata": {},
   "outputs": [
    {
     "data": {
      "text/plain": [
       "' erm'"
      ]
     },
     "execution_count": 18,
     "metadata": {},
     "output_type": "execute_result"
    }
   ],
   "source": [
    "usr#only gives the last usr name entered"
   ]
  },
  {
   "cell_type": "code",
   "execution_count": 13,
   "id": "69e9f231",
   "metadata": {
    "scrolled": true
   },
   "outputs": [
    {
     "name": "stdout",
     "output_type": "stream",
     "text": [
      "enter n 5\n",
      "enter user name jay\n",
      "enter password 234\n",
      "user name:  jay \n",
      " password: 234\n",
      "enter user name uma\n",
      "enter password  67\n",
      "user name:  uma \n",
      " password: 67\n",
      "enter user name sru\n",
      "enter password  89\n",
      "user name:  sru \n",
      " password: 89\n",
      "enter user nameyuk\n",
      "enter password 90\n",
      "user name: yuk \n",
      " password: 90\n",
      "enter user name erm\n",
      "enter password  467\n",
      "user name:  erm \n",
      " password: 467\n"
     ]
    }
   ],
   "source": [
    "#allows to store more variables under single name\n",
    "L = []\n",
    "n= int(input(\"enter n \"))\n",
    "for i in range (n):\n",
    "    usr=input(\"enter user name\")\n",
    "    psw=int(input(\"enter password \"))\n",
    "    L.append(usr)\n",
    "    L.append(psw)\n",
    "    print(\"user name:\", usr,\"\\n\",\"password:\", psw)"
   ]
  },
  {
   "cell_type": "code",
   "execution_count": 15,
   "id": "8346550c",
   "metadata": {},
   "outputs": [],
   "source": [
    "with open (\"Login.txt\",\"w\") as f:\n",
    "    f.write(\"hello\") "
   ]
  },
  {
   "cell_type": "code",
   "execution_count": 14,
   "id": "556fc52c",
   "metadata": {},
   "outputs": [
    {
     "data": {
      "text/plain": [
       "[' jay', 234, ' uma', 67, ' sru', 89, 'yuk', 90, ' erm', 467]"
      ]
     },
     "execution_count": 14,
     "metadata": {},
     "output_type": "execute_result"
    }
   ],
   "source": [
    "L"
   ]
  },
  {
   "cell_type": "code",
   "execution_count": 25,
   "id": "45f290b1",
   "metadata": {},
   "outputs": [],
   "source": [
    "#to make this into a text file \n",
    "#we open a file in w mode\n",
    "# str concept as file accepts string type\n",
    "with open (\"Login.txt\",\"w\") as f:\n",
    "    f.write(str(L))"
   ]
  },
  {
   "cell_type": "code",
   "execution_count": 26,
   "id": "5c96d5e1",
   "metadata": {},
   "outputs": [
    {
     "name": "stdout",
     "output_type": "stream",
     "text": [
      "[' jay', 234, ' uma', 67, ' sru', 89, 'yuk', 90, ' erm', 467]\n"
     ]
    }
   ],
   "source": [
    "#to read it here itself\n",
    "with open (\"Login.txt\",\"r\") as f:\n",
    "    print(f.read())"
   ]
  },
  {
   "cell_type": "markdown",
   "id": "ac644240",
   "metadata": {},
   "source": [
    "## Create a login page"
   ]
  },
  {
   "cell_type": "code",
   "execution_count": 27,
   "id": "fe439eca",
   "metadata": {},
   "outputs": [
    {
     "name": "stdout",
     "output_type": "stream",
     "text": [
      "command\n",
      "command\n",
      "command\n",
      "command\n",
      "command\n"
     ]
    }
   ],
   "source": [
    "import tkinter as tk\n",
    "import tkinter.font as tkFont\n",
    "\n",
    "class App:\n",
    "    def __init__(self, root):\n",
    "        #setting title\n",
    "        root.title(\"undefined\")\n",
    "        #setting window size\n",
    "        width=600\n",
    "        height=500\n",
    "        screenwidth = root.winfo_screenwidth()\n",
    "        screenheight = root.winfo_screenheight()\n",
    "        alignstr = '%dx%d+%d+%d' % (width, height, (screenwidth - width) / 2, (screenheight - height) / 2)\n",
    "        root.geometry(alignstr)\n",
    "        root.resizable(width=False, height=False)\n",
    "\n",
    "        GLabel_240=tk.Label(root)\n",
    "        ft = tkFont.Font(family='Times',size=10)\n",
    "        GLabel_240[\"font\"] = ft\n",
    "        GLabel_240[\"fg\"] = \"#333333\"\n",
    "        GLabel_240[\"justify\"] = \"center\"\n",
    "        GLabel_240[\"text\"] = \"user name\"\n",
    "        GLabel_240.place(x=60,y=110,width=81,height=30)\n",
    "\n",
    "        GLineEdit_955=tk.Entry(root)\n",
    "        GLineEdit_955[\"borderwidth\"] = \"1px\"\n",
    "        ft = tkFont.Font(family='Times',size=10)\n",
    "        GLineEdit_955[\"font\"] = ft\n",
    "        GLineEdit_955[\"fg\"] = \"#333333\"\n",
    "        GLineEdit_955[\"justify\"] = \"center\"\n",
    "        GLineEdit_955[\"text\"] = \"\"\n",
    "        GLineEdit_955.place(x=180,y=110,width=206,height=30)\n",
    "\n",
    "        GMessage_244=tk.Message(root)\n",
    "        ft = tkFont.Font(family='Times',size=10)\n",
    "        GMessage_244[\"font\"] = ft\n",
    "        GMessage_244[\"fg\"] = \"#333333\"\n",
    "        GMessage_244[\"justify\"] = \"center\"\n",
    "        GMessage_244[\"text\"] = \"Message\"\n",
    "        GMessage_244.place(x=700,y=290,width=80,height=25)\n",
    "\n",
    "        GLabel_228=tk.Label(root)\n",
    "        ft = tkFont.Font(family='Times',size=10)\n",
    "        GLabel_228[\"font\"] = ft\n",
    "        GLabel_228[\"fg\"] = \"#333333\"\n",
    "        GLabel_228[\"justify\"] = \"center\"\n",
    "        GLabel_228[\"text\"] = \"password\"\n",
    "        GLabel_228.place(x=60,y=160,width=70,height=25)\n",
    "\n",
    "        GLineEdit_770=tk.Entry(root)\n",
    "        GLineEdit_770[\"borderwidth\"] = \"1px\"\n",
    "        ft = tkFont.Font(family='Times',size=10)\n",
    "        GLineEdit_770[\"font\"] = ft\n",
    "        GLineEdit_770[\"fg\"] = \"#333333\"\n",
    "        GLineEdit_770[\"justify\"] = \"center\"\n",
    "        GLineEdit_770[\"text\"] = \"\"\n",
    "        GLineEdit_770.place(x=180,y=160,width=213,height=30)\n",
    "\n",
    "        GButton_163=tk.Button(root)\n",
    "        GButton_163[\"bg\"] = \"#f0f0f0\"\n",
    "        ft = tkFont.Font(family='Times',size=10)\n",
    "        GButton_163[\"font\"] = ft\n",
    "        GButton_163[\"fg\"] = \"#000000\"\n",
    "        GButton_163[\"justify\"] = \"center\"\n",
    "        GButton_163[\"text\"] = \"submit\"\n",
    "        GButton_163.place(x=100,y=250,width=70,height=25)\n",
    "        GButton_163[\"command\"] = self.GButton_163_command\n",
    "\n",
    "        GButton_699=tk.Button(root)\n",
    "        GButton_699[\"bg\"] = \"#f0f0f0\"\n",
    "        ft = tkFont.Font(family='Times',size=10)\n",
    "        GButton_699[\"font\"] = ft\n",
    "        GButton_699[\"fg\"] = \"#000000\"\n",
    "        GButton_699[\"justify\"] = \"center\"\n",
    "        GButton_699[\"text\"] = \"cancel\"\n",
    "        GButton_699.place(x=330,y=250,width=70,height=25)\n",
    "        GButton_699[\"command\"] = self.GButton_699_command\n",
    "\n",
    "    def GButton_163_command(self):\n",
    "        print(\"command\")\n",
    "\n",
    "\n",
    "    def GButton_699_command(self):\n",
    "        print(\"command\")\n",
    "\n",
    "if __name__ == \"__main__\":\n",
    "    root = tk.Tk()\n",
    "    app = App(root)\n",
    "    root.mainloop()"
   ]
  },
  {
   "cell_type": "code",
   "execution_count": null,
   "id": "0f4b5e5c",
   "metadata": {},
   "outputs": [],
   "source": [
    "import tkinter as tk\n",
    "import tkinter.font as tkFont\n",
    "\n",
    "class App:\n",
    "    def __init__(self, root):\n",
    "        #setting title\n",
    "        root.title(\"undefined\")\n",
    "        #setting window size\n",
    "        width=600\n",
    "        height=500\n",
    "        screenwidth = root.winfo_screenwidth()\n",
    "        screenheight = root.winfo_screenheight()\n",
    "        alignstr = '%dx%d+%d+%d' % (width, height, (screenwidth - width) / 2, (screenheight - height) / 2)\n",
    "        root.geometry(alignstr)\n",
    "        root.resizable(width=False, height=False)\n",
    "\n",
    "        GLabel_240=tk.Label(root)\n",
    "        ft = tkFont.Font(family='Times',size=10)\n",
    "        GLabel_240[\"font\"] = ft\n",
    "        GLabel_240[\"fg\"] = \"#1e9fff\"\n",
    "        GLabel_240[\"justify\"] = \"center\"\n",
    "        GLabel_240[\"text\"] = \"user name\"\n",
    "        GLabel_240.place(x=60,y=110,width=81,height=30)\n",
    "\n",
    "        GLineEdit_955=tk.Entry(root)\n",
    "        GLineEdit_955[\"borderwidth\"] = \"1px\"\n",
    "        ft = tkFont.Font(family='Times',size=10)\n",
    "        GLineEdit_955[\"font\"] = ft\n",
    "        GLineEdit_955[\"fg\"] = \"#333333\"\n",
    "        GLineEdit_955[\"justify\"] = \"center\"\n",
    "        GLineEdit_955[\"text\"] = \"\"\n",
    "        GLineEdit_955.place(x=180,y=110,width=206,height=30)\n",
    "\n",
    "        GMessage_244=tk.Message(root)\n",
    "        ft = tkFont.Font(family='Times',size=10)\n",
    "        GMessage_244[\"font\"] = ft\n",
    "        GMessage_244[\"fg\"] = \"#333333\"\n",
    "        GMessage_244[\"justify\"] = \"center\"\n",
    "        GMessage_244[\"text\"] = \"Message\"\n",
    "        GMessage_244.place(x=700,y=290,width=80,height=25)\n",
    "\n",
    "        GLabel_228=tk.Label(root)\n",
    "        ft = tkFont.Font(family='Times',size=10)\n",
    "        GLabel_228[\"font\"] = ft\n",
    "        GLabel_228[\"fg\"] = \"#1e9fff\"\n",
    "        GLabel_228[\"justify\"] = \"center\"\n",
    "        GLabel_228[\"text\"] = \"password\"\n",
    "        GLabel_228.place(x=60,y=160,width=70,height=25)\n",
    "\n",
    "        GLineEdit_770=tk.Entry(root)\n",
    "        GLineEdit_770[\"borderwidth\"] = \"1px\"\n",
    "        ft = tkFont.Font(family='Times',size=10)\n",
    "        GLineEdit_770[\"font\"] = ft\n",
    "        GLineEdit_770[\"fg\"] = \"#333333\"\n",
    "        GLineEdit_770[\"justify\"] = \"center\"\n",
    "        GLineEdit_770[\"text\"] = \"\"\n",
    "        GLineEdit_770.place(x=180,y=160,width=213,height=30)\n",
    "\n",
    "        GButton_163=tk.Button(root)\n",
    "        GButton_163[\"bg\"] = \"#009600\"\n",
    "        ft = tkFont.Font(family='Times',size=10)\n",
    "        GButton_163[\"font\"] = ft\n",
    "        GButton_163[\"fg\"] = \"#111212\"\n",
    "        GButton_163[\"justify\"] = \"center\"\n",
    "        GButton_163[\"text\"] = \"submit\"\n",
    "        GButton_163.place(x=100,y=250,width=70,height=25)\n",
    "        GButton_163[\"command\"] = self.GButton_163_command\n",
    "\n",
    "        GButton_699=tk.Button(root)\n",
    "        GButton_699[\"bg\"] = \"#c51111\"\n",
    "        ft = tkFont.Font(family='Times',size=10)\n",
    "        GButton_699[\"font\"] = ft\n",
    "        GButton_699[\"fg\"] = \"#1a1818\"\n",
    "        GButton_699[\"justify\"] = \"center\"\n",
    "        GButton_699[\"text\"] = \"cancel\"\n",
    "        GButton_699.place(x=330,y=250,width=70,height=25)\n",
    "        GButton_699[\"command\"] = self.GButton_699_command\n",
    "\n",
    "    def GButton_163_command(self):\n",
    "        print(\"command\")\n",
    "\n",
    "\n",
    "    def GButton_699_command(self):\n",
    "        print(\"command\")\n",
    "\n",
    "if __name__ == \"__main__\":\n",
    "    root = tk.Tk()\n",
    "    app = App(root)\n",
    "    root.mainloop()"
   ]
  },
  {
   "cell_type": "code",
   "execution_count": null,
   "id": "9cbe24af",
   "metadata": {},
   "outputs": [],
   "source": [
    "#the above code is for design\n",
    "#tk inter documentation"
   ]
  },
  {
   "cell_type": "code",
   "execution_count": 1,
   "id": "6880e8e5",
   "metadata": {},
   "outputs": [],
   "source": [
    "import tkinter as tk\n",
    "import tkinter.font as tkFont\n",
    "\n",
    "class App:\n",
    "    def __init__(self, root):\n",
    "        self.root = root\n",
    "        \n",
    "        # Setting title\n",
    "        root.title(\"User Authentication\")\n",
    "        \n",
    "        # Setting window size\n",
    "        width=400\n",
    "        height=300\n",
    "        screenwidth = root.winfo_screenwidth()\n",
    "        screenheight = root.winfo_screenheight()\n",
    "        alignstr = '%dx%d+%d+%d' % (width, height, (screenwidth - width) / 2, (screenheight - height) / 2)\n",
    "        root.geometry(alignstr)\n",
    "        root.resizable(width=False, height=False)\n",
    "\n",
    "        # Label for username\n",
    "        self.username_label = tk.Label(root, text=\"Username:\")\n",
    "        self.username_label.place(x=50, y=50)\n",
    "\n",
    "        # Entry widget for username\n",
    "        self.username_entry = tk.Entry(root)\n",
    "        self.username_entry.place(x=150, y=50)\n",
    "\n",
    "        # Label for password\n",
    "        self.password_label = tk.Label(root, text=\"Password:\")\n",
    "        self.password_label.place(x=50, y=100)\n",
    "\n",
    "        # Entry widget for password\n",
    "        self.password_entry = tk.Entry(root, show=\"*\")\n",
    "        self.password_entry.place(x=150, y=100)\n",
    "\n",
    "        # Submit button\n",
    "        self.submit_button = tk.Button(root, text=\"Submit\", command=self.submit)\n",
    "        self.submit_button.place(x=100, y=150)\n",
    "\n",
    "        # Cancel button\n",
    "        self.cancel_button = tk.Button(root, text=\"Cancel\", command=self.cancel)\n",
    "        self.cancel_button.place(x=200, y=150)\n",
    "\n",
    "    def submit(self):\n",
    "        # Get username and password from entry widgets\n",
    "        username = self.username_entry.get()\n",
    "        password = self.password_entry.get()\n",
    "\n",
    "        # Save username and password to a text file\n",
    "        with open(\"user_credentials.txt\", \"a\") as file:\n",
    "            file.write(f\"Username: {username}, Password: {password}\\n\")\n",
    "\n",
    "        # Clear entry widgets\n",
    "        self.username_entry.delete(0, tk.END)\n",
    "        self.password_entry.delete(0, tk.END)\n",
    "\n",
    "    def cancel(self):\n",
    "        # Clear entry widgets\n",
    "        self.username_entry.delete(0, tk.END)\n",
    "        self.password_entry.delete(0, tk.END)\n",
    "\n",
    "if __name__ == \"__main__\":\n",
    "    root = tk.Tk()\n",
    "    app = App(root)\n",
    "    root.mainloop()\n"
   ]
  },
  {
   "cell_type": "code",
   "execution_count": 2,
   "id": "f17879d6",
   "metadata": {},
   "outputs": [],
   "source": [
    "#the details wont always be save din text"
   ]
  },
  {
   "cell_type": "code",
   "execution_count": 3,
   "id": "3d28d0b4",
   "metadata": {},
   "outputs": [],
   "source": [
    "#it can also be saved in sql database\n"
   ]
  },
  {
   "cell_type": "code",
   "execution_count": null,
   "id": "fa45ff81",
   "metadata": {},
   "outputs": [],
   "source": [
    "import tkinter as tk\n",
    "import tkinter.font as tkFont\n",
    "\n",
    "class App:\n",
    "    def __init__(self, root):\n",
    "        self.root = root\n",
    "        \n",
    "        # Setting title\n",
    "        root.title(\"User Authentication\")\n",
    "        \n",
    "        # Setting window size\n",
    "        width=400\n",
    "        height=300\n",
    "        screenwidth = root.winfo_screenwidth()\n",
    "        screenheight = root.winfo_screenheight()\n",
    "        alignstr = '%dx%d+%d+%d' % (width, height, (screenwidth - width) / 2, (screenheight - height) / 2)\n",
    "        root.geometry(alignstr)\n",
    "        root.resizable(width=False, height=False)\n",
    "\n",
    "        # Label for username\n",
    "        self.username_label = tk.Label(root, text=\"User Name:\")\n",
    "        self.username_label.place(x=50, y=50)\n",
    "\n",
    "        # Entry widget for username\n",
    "        self.username_entry = tk.Entry(root)\n",
    "        self.username_entry.place(x=150, y=50)\n",
    "\n",
    "        # Label for password\n",
    "        self.password_label = tk.Label(root, text=\"Password:\")\n",
    "        self.password_label.place(x=50, y=100)\n",
    "\n",
    "        # Entry widget for password\n",
    "        self.password_entry = tk.Entry(root, show=\"*\")\n",
    "        self.password_entry.place(x=150, y=100)\n",
    "\n",
    "        # Submit button\n",
    "        self.submit_button = tk.Button(root, text=\"Submit\", command=self.submit, bg=\"green\", fg=\"white\")\n",
    "        self.submit_button.place(x=100, y=150)\n",
    "\n",
    "        # Cancel button\n",
    "        self.cancel_button = tk.Button(root, text=\"Cancel\", command=self.cancel, bg=\"red\", fg=\"white\")\n",
    "        self.cancel_button.place(x=200, y=150)\n",
    "\n",
    "    def submit(self):\n",
    "        # Get username and password from entry widgets\n",
    "        username = self.username_entry.get()\n",
    "        password = self.password_entry.get()\n",
    "\n",
    "        # Save username and password to a text file\n",
    "        with open(\"user_credentials.txt\", \"a\") as file:\n",
    "            file.write(f\"Username: {username}, Password: {password}\\n\")\n",
    "\n",
    "        # Clear entry widgets\n",
    "        self.username_entry.delete(0, tk.END)\n",
    "        self.password_entry.delete(0, tk.END)\n",
    "\n",
    "    def cancel(self):\n",
    "        # Clear entry widgets\n",
    "        self.username_entry.delete(0, tk.END)\n",
    "        self.password_entry.delete(0, tk.END)\n",
    "\n",
    "if __name__ == \"__main__\":\n",
    "    root = tk.Tk()\n",
    "    app = App(root)\n",
    "    root.mainloop()\n"
   ]
  },
  {
   "cell_type": "code",
   "execution_count": null,
   "id": "fd88acda",
   "metadata": {},
   "outputs": [],
   "source": [
    "#relational database management"
   ]
  },
  {
   "cell_type": "code",
   "execution_count": 1,
   "id": "5438c503",
   "metadata": {},
   "outputs": [],
   "source": [
    "import sqlite3"
   ]
  },
  {
   "cell_type": "code",
   "execution_count": 3,
   "id": "f070c0ae",
   "metadata": {},
   "outputs": [],
   "source": [
    "conn=sqlite3.connect(\"MY.db\")\n",
    "curson=conn.cursor()"
   ]
  },
  {
   "cell_type": "code",
   "execution_count": 4,
   "id": "998a0a4c",
   "metadata": {},
   "outputs": [
    {
     "name": "stdout",
     "output_type": "stream",
     "text": [
      "Table Student1 Created Successfully\n"
     ]
    }
   ],
   "source": [
    "conn.execute(\"\"\"\n",
    "CREATE TABLE Student1(\n",
    "SID INTEGER PRIMARY KEY AUTOINCREMENT NOT NULL,\n",
    "SNAME TEXT NOT NULL)\n",
    "\"\"\")\n",
    "\n",
    "print(\"Table Student1 Created Successfully\")"
   ]
  },
  {
   "cell_type": "code",
   "execution_count": 6,
   "id": "738218c2",
   "metadata": {},
   "outputs": [
    {
     "name": "stdout",
     "output_type": "stream",
     "text": [
      "Table Course created Successfully\n"
     ]
    }
   ],
   "source": [
    "conn.execute(\"\"\"\n",
    "CREATE TABLE COURSE(\n",
    "CID INTEGER PRIMARY KEY AUTOINCREMENT NOT NULL,\n",
    "CNAME TEXT NOT NULL,si INTEGER,FOREIGN KEY(\"si\") REFERENCES Student(SID))\n",
    "\"\"\")\n",
    "\n",
    "print(\"Table Course created Successfully\")"
   ]
  },
  {
   "cell_type": "code",
   "execution_count": 7,
   "id": "0fa492c1",
   "metadata": {},
   "outputs": [
    {
     "name": "stdout",
     "output_type": "stream",
     "text": [
      "Records Inserted Succesfully\n"
     ]
    }
   ],
   "source": [
    "conn.execute(\"INSERT INTO STUDENT1(SID,Sname) VALUES (1111,'Mona')\");\n",
    "conn.execute(\"INSERT INTO STUDENT1(SID,Sname) VALUES (1112,'Mohsin')\");\n",
    "conn.execute(\"INSERT INTO STUDENT1(SID,Sname) VALUES (1113,'Ali')\");\n",
    "conn.execute(\"INSERT INTO STUDENT1(SID,Sname) VALUES (1114,'Priya')\");\n",
    "conn.commit()\n",
    "print(\"Records Inserted Succesfully\")\n"
   ]
  },
  {
   "cell_type": "code",
   "execution_count": 8,
   "id": "b941554d",
   "metadata": {},
   "outputs": [
    {
     "name": "stdout",
     "output_type": "stream",
     "text": [
      "SID\tSname \n",
      "---------------------\n",
      "1111\tMona\n",
      "1112\tMohsin\n",
      "1113\tAli\n",
      "1114\tPriya\n"
     ]
    }
   ],
   "source": [
    "#display record\n",
    "cursor=conn.execute(\"SELECT* from Student1\")\n",
    "print(\"SID\\tSname \\n---------------------\")\n",
    "for row in cursor:\n",
    "    print(\"{}\\t{}\".format(row[0],row[1]))"
   ]
  },
  {
   "cell_type": "code",
   "execution_count": null,
   "id": "224f5dbb",
   "metadata": {},
   "outputs": [],
   "source": [
    " "
   ]
  }
 ],
 "metadata": {
  "kernelspec": {
   "display_name": "Python 3 (ipykernel)",
   "language": "python",
   "name": "python3"
  },
  "language_info": {
   "codemirror_mode": {
    "name": "ipython",
    "version": 3
   },
   "file_extension": ".py",
   "mimetype": "text/x-python",
   "name": "python",
   "nbconvert_exporter": "python",
   "pygments_lexer": "ipython3",
   "version": "3.9.12"
  }
 },
 "nbformat": 4,
 "nbformat_minor": 5
}
