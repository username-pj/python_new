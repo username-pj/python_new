{
 "cells": [
  {
   "cell_type": "markdown",
   "id": "f095fc0c",
   "metadata": {},
   "source": [
    "# Decision Making\n",
    "### 21st Feb"
   ]
  },
  {
   "cell_type": "code",
   "execution_count": 3,
   "id": "d22349c5",
   "metadata": {
    "scrolled": true
   },
   "outputs": [
    {
     "name": "stdout",
     "output_type": "stream",
     "text": [
      "Enter [r/s/p] p\n",
      "enter [r/p/s] s\n"
     ]
    }
   ],
   "source": [
    "p1=input(\"Enter [r/s/p] \")\n",
    "p2=input(\"enter [r/p/s] \")"
   ]
  },
  {
   "cell_type": "code",
   "execution_count": 5,
   "id": "a9ecb3dd",
   "metadata": {},
   "outputs": [
    {
     "name": "stdout",
     "output_type": "stream",
     "text": [
      "P1 wins P1 = p P2= s\n"
     ]
    }
   ],
   "source": [
    "if(p1==p2):\n",
    "    print(\"tie\")\n",
    "elif((p1=='r') or (p1=='R')) and ((p2=='s')or(p2=='S')):\n",
    "                                  print('p1 is winner',\"P1=\",p1,\"P2=\",p2) \n",
    "elif((p1=='s')or(p1=='S')) and ((p2=='r') or (p2=='R')):\n",
    "    print(\"P2 is the winner\",\"P1=\",p1,\"P2=\",p2)\n",
    "elif((p1=='r')or(p1=='R')) and ((p2=='p') or (p2=='P')):  \n",
    "    print(\"P2 wins\", \"P1=\",p1,\"P2=\",p2)\n",
    "elif((p1=='p') or (p1=='P') and (p1=='r') or (p1=='R')):\n",
    "    print(\"P1 wins\",\"P1 =\", p1,\"P2=\",p2)\n",
    "elif((p1=='s') or (p1=='S') and (p2=='p') or (p2=='P')):\n",
    "    print(\"P1 wins\",\"P1=\",p1,\"P2=\",p2)\n",
    "elif((p1=='p') or (p1==\"P\") and (p2=='s') or (p2=='S')):\n",
    "    print(\"P2 WINS\",\"P1=\",p1,\"P2=\",p2)"
   ]
  },
  {
   "cell_type": "code",
   "execution_count": 24,
   "id": "9423fa3f",
   "metadata": {},
   "outputs": [],
   "source": [
    "# generate a table"
   ]
  },
  {
   "cell_type": "code",
   "execution_count": 2,
   "id": "e11726c8",
   "metadata": {},
   "outputs": [
    {
     "name": "stdout",
     "output_type": "stream",
     "text": [
      "enter n 5\n",
      "5 X 1 = 5\n",
      "5 X 2 = 10\n",
      "5 X 3 = 15\n",
      "5 X 4 = 20\n",
      "5 X 5 = 25\n",
      "5 X 6 = 30\n",
      "5 X 7 = 35\n",
      "5 X 8 = 40\n",
      "5 X 9 = 45\n",
      "5 X 10 = 50\n"
     ]
    }
   ],
   "source": [
    "n =  int(input(\"enter n \"))\n",
    "for i in range (1,11):\n",
    "    print(n,\"X\",i,\"=\",n*i)"
   ]
  },
  {
   "cell_type": "code",
   "execution_count": 6,
   "id": "4ac52c92",
   "metadata": {},
   "outputs": [
    {
     "name": "stdout",
     "output_type": "stream",
     "text": [
      "enter n5\n",
      "1 X 1 = 1\n",
      "1 X 2 = 2\n",
      "1 X 3 = 3\n",
      "1 X 4 = 4\n",
      "1 X 5 = 5\n",
      "1 X 6 = 6\n",
      "1 X 7 = 7\n",
      "1 X 8 = 8\n",
      "1 X 9 = 9\n",
      "1 X 10 = 10\n",
      "2 X 1 = 2\n",
      "2 X 2 = 4\n",
      "2 X 3 = 6\n",
      "2 X 4 = 8\n",
      "2 X 5 = 10\n",
      "2 X 6 = 12\n",
      "2 X 7 = 14\n",
      "2 X 8 = 16\n",
      "2 X 9 = 18\n",
      "2 X 10 = 20\n",
      "3 X 1 = 3\n",
      "3 X 2 = 6\n",
      "3 X 3 = 9\n",
      "3 X 4 = 12\n",
      "3 X 5 = 15\n",
      "3 X 6 = 18\n",
      "3 X 7 = 21\n",
      "3 X 8 = 24\n",
      "3 X 9 = 27\n",
      "3 X 10 = 30\n",
      "4 X 1 = 4\n",
      "4 X 2 = 8\n",
      "4 X 3 = 12\n",
      "4 X 4 = 16\n",
      "4 X 5 = 20\n",
      "4 X 6 = 24\n",
      "4 X 7 = 28\n",
      "4 X 8 = 32\n",
      "4 X 9 = 36\n",
      "4 X 10 = 40\n"
     ]
    }
   ],
   "source": [
    "n = int(input(\"enter n\"))\n",
    "for i in range(1,n):\n",
    "    for j in range (1,11):\n",
    "        print(i,\"X\",j,\"=\",i*j)"
   ]
  },
  {
   "cell_type": "code",
   "execution_count": 7,
   "id": "3411c40f",
   "metadata": {},
   "outputs": [
    {
     "name": "stdout",
     "output_type": "stream",
     "text": [
      "enter n5\n",
      "1 X 1 = 1\n",
      "1 X 2 = 2\n",
      "1 X 3 = 3\n",
      "1 X 4 = 4\n",
      "1 X 5 = 5\n",
      "1 X 6 = 6\n",
      "1 X 7 = 7\n",
      "1 X 8 = 8\n",
      "1 X 9 = 9\n",
      "1 X 10 = 10\n",
      "2 X 1 = 2\n",
      "2 X 2 = 4\n",
      "2 X 3 = 6\n",
      "2 X 4 = 8\n",
      "2 X 5 = 10\n",
      "2 X 6 = 12\n",
      "2 X 7 = 14\n",
      "2 X 8 = 16\n",
      "2 X 9 = 18\n",
      "2 X 10 = 20\n",
      "3 X 1 = 3\n",
      "3 X 2 = 6\n",
      "3 X 3 = 9\n",
      "3 X 4 = 12\n",
      "3 X 5 = 15\n",
      "3 X 6 = 18\n",
      "3 X 7 = 21\n",
      "3 X 8 = 24\n",
      "3 X 9 = 27\n",
      "3 X 10 = 30\n",
      "4 X 1 = 4\n",
      "4 X 2 = 8\n",
      "4 X 3 = 12\n",
      "4 X 4 = 16\n",
      "4 X 5 = 20\n",
      "4 X 6 = 24\n",
      "4 X 7 = 28\n",
      "4 X 8 = 32\n",
      "4 X 9 = 36\n",
      "4 X 10 = 40\n",
      "5 X 1 = 5\n",
      "5 X 2 = 10\n",
      "5 X 3 = 15\n",
      "5 X 4 = 20\n",
      "5 X 5 = 25\n",
      "5 X 6 = 30\n",
      "5 X 7 = 35\n",
      "5 X 8 = 40\n",
      "5 X 9 = 45\n",
      "5 X 10 = 50\n"
     ]
    }
   ],
   "source": [
    "n = int(input(\"enter n\"))\n",
    "for i in range(1,n+1):\n",
    "    for j in range (1,11):\n",
    "        print(i,\"X\",j,\"=\",i*j)"
   ]
  },
  {
   "cell_type": "code",
   "execution_count": 11,
   "id": "c01dae5e",
   "metadata": {},
   "outputs": [
    {
     "name": "stdout",
     "output_type": "stream",
     "text": [
      "enter n5\n",
      "1 X 1 = 1\n",
      "1 X 2 = 2\n",
      "1 X 3 = 3\n",
      "1 X 4 = 4\n",
      "1 X 5 = 5\n",
      "1 X 6 = 6\n",
      "1 X 7 = 7\n",
      "1 X 8 = 8\n",
      "1 X 9 = 9\n",
      "1 X 10 = 10\n",
      "\n",
      "------\n",
      "\n",
      "2 X 1 = 2\n",
      "2 X 2 = 4\n",
      "2 X 3 = 6\n",
      "2 X 4 = 8\n",
      "2 X 5 = 10\n",
      "2 X 6 = 12\n",
      "2 X 7 = 14\n",
      "2 X 8 = 16\n",
      "2 X 9 = 18\n",
      "2 X 10 = 20\n",
      "\n",
      "------\n",
      "\n",
      "3 X 1 = 3\n",
      "3 X 2 = 6\n",
      "3 X 3 = 9\n",
      "3 X 4 = 12\n",
      "3 X 5 = 15\n",
      "3 X 6 = 18\n",
      "3 X 7 = 21\n",
      "3 X 8 = 24\n",
      "3 X 9 = 27\n",
      "3 X 10 = 30\n",
      "\n",
      "------\n",
      "\n",
      "4 X 1 = 4\n",
      "4 X 2 = 8\n",
      "4 X 3 = 12\n",
      "4 X 4 = 16\n",
      "4 X 5 = 20\n",
      "4 X 6 = 24\n",
      "4 X 7 = 28\n",
      "4 X 8 = 32\n",
      "4 X 9 = 36\n",
      "4 X 10 = 40\n",
      "\n",
      "------\n",
      "\n",
      "5 X 1 = 5\n",
      "5 X 2 = 10\n",
      "5 X 3 = 15\n",
      "5 X 4 = 20\n",
      "5 X 5 = 25\n",
      "5 X 6 = 30\n",
      "5 X 7 = 35\n",
      "5 X 8 = 40\n",
      "5 X 9 = 45\n",
      "5 X 10 = 50\n",
      "\n",
      "------\n",
      "\n"
     ]
    }
   ],
   "source": [
    "#if one for loop is inside another for loop we call it nesting\n",
    "n = int(input(\"enter n\"))\n",
    "for i in range(1,n+1):\n",
    "    for j in range (1,11):\n",
    "        print(i,\"X\",j,\"=\",i*j)\n",
    "    print(\"\\n------\\n\")"
   ]
  },
  {
   "cell_type": "markdown",
   "id": "443d2d2c",
   "metadata": {},
   "source": [
    "# guess a number game"
   ]
  },
  {
   "cell_type": "code",
   "execution_count": 5,
   "id": "10ed9dc7",
   "metadata": {},
   "outputs": [
    {
     "name": "stdout",
     "output_type": "stream",
     "text": [
      "enter a number6\n"
     ]
    }
   ],
   "source": [
    "import random\n",
    "n1=random.randint(1,9)\n",
    "n1\n",
    "n2=int(input(\"enter a number\"))"
   ]
  },
  {
   "cell_type": "code",
   "execution_count": 6,
   "id": "2ab8d3b3",
   "metadata": {},
   "outputs": [
    {
     "name": "stdout",
     "output_type": "stream",
     "text": [
      "n1= 5 \t n2= 6\n",
      "you missed the chance\n"
     ]
    }
   ],
   "source": [
    "if(n1==n2):\n",
    "    print(\"I guessed a correct number\\n congratulations...!!\")\n",
    "else:\n",
    "    print(\"n1=\",n1,\"\\t\",\"n2=\",n2)\n",
    "    print(\"you missed the chance\")\n",
    "        "
   ]
  },
  {
   "cell_type": "markdown",
   "id": "1dc385c0",
   "metadata": {},
   "source": [
    "## infinite loop"
   ]
  },
  {
   "cell_type": "code",
   "execution_count": null,
   "id": "ba8d29dd",
   "metadata": {},
   "outputs": [
    {
     "name": "stdout",
     "output_type": "stream",
     "text": [
      "enter a number3\n",
      "enter a number4\n",
      "enter a number4\n",
      "enter a number5\n"
     ]
    }
   ],
   "source": [
    "import random\n",
    "while(1):\n",
    "    n1=random.randint(1,9)\n",
    "    n2=int(input(\"enter a number\"))"
   ]
  },
  {
   "cell_type": "code",
   "execution_count": null,
   "id": "c43bf6d2",
   "metadata": {},
   "outputs": [],
   "source": [
    "#it keeps entering numbers"
   ]
  },
  {
   "cell_type": "code",
   "execution_count": null,
   "id": "6353fd75",
   "metadata": {},
   "outputs": [
    {
     "name": "stdout",
     "output_type": "stream",
     "text": [
      "enter a number8\n"
     ]
    }
   ],
   "source": [
    "# can also be written as \n",
    "import random\n",
    "while(True):\n",
    "    n1=random.randint(1,9)\n",
    "    n2=int(input(\"enter a number\"))"
   ]
  },
  {
   "cell_type": "code",
   "execution_count": 3,
   "id": "0872c29c",
   "metadata": {},
   "outputs": [
    {
     "name": "stdout",
     "output_type": "stream",
     "text": [
      "enter a number4\n",
      "n1= 5 \t n2= 4\n",
      "you missed the chance\n",
      "do u want to continue (y/n) y\n",
      "enter a number5\n",
      "n1= 3 \t n2= 5\n",
      "you missed the chance\n",
      "do u want to continue (y/n) n\n"
     ]
    }
   ],
   "source": [
    "import random\n",
    "while(True):\n",
    "    n1=random.randint(1,9)\n",
    "    n2=int(input(\"enter a number\"))\n",
    "    \n",
    "    if(n1==n2):\n",
    "        print(\"n1=\",n1,\"\\t\",\"n2=\",n2)\n",
    "        print(\"I guessed a correct number\\n congratulations...!!\")\n",
    "    else:\n",
    "        print(\"n1=\",n1,\"\\t\",\"n2=\",n2)\n",
    "        print(\"you missed the chance\")\n",
    "        ch = input(\"do u want to continue (y/n) \")\n",
    "        if(ch=='y') or (ch==\"Y\"):\n",
    "            continue\n",
    "        else:\n",
    "            break\n",
    "    \n",
    "    "
   ]
  },
  {
   "cell_type": "code",
   "execution_count": 5,
   "id": "e094a2f3",
   "metadata": {},
   "outputs": [
    {
     "name": "stdout",
     "output_type": "stream",
     "text": [
      "1+2+3+4+5+6+7+8+9+10+\t sum of series = 10\n"
     ]
    }
   ],
   "source": [
    "s=0\n",
    "for i in range (1, 11):\n",
    "    s= s+1\n",
    "    print(i, end=\"+\")\n",
    "print(\"\\t sum of series =\", s)"
   ]
  },
  {
   "cell_type": "code",
   "execution_count": 7,
   "id": "ebf607f2",
   "metadata": {},
   "outputs": [
    {
     "name": "stdout",
     "output_type": "stream",
     "text": [
      "1²+2²+3²+4²+5²+6²+7²+8²+9²+10²+"
     ]
    }
   ],
   "source": [
    "for i in range(1,11):\n",
    "    print(\"{0}{1}\".format(i,'\\u00B2'),end='+')"
   ]
  },
  {
   "cell_type": "code",
   "execution_count": 8,
   "id": "283790ef",
   "metadata": {},
   "outputs": [
    {
     "name": "stdout",
     "output_type": "stream",
     "text": [
      "1³+2³+3³+4³+5³+6³+7³+8³+9³+10³+"
     ]
    }
   ],
   "source": [
    "for i in range(1,11):\n",
    "    print(\"{0}{1}\".format(i,'\\u00B3'),end='+')"
   ]
  },
  {
   "cell_type": "code",
   "execution_count": 9,
   "id": "3051a922",
   "metadata": {},
   "outputs": [],
   "source": [
    "# used for superscript '\\u00B3'"
   ]
  },
  {
   "cell_type": "code",
   "execution_count": null,
   "id": "d9490bc8",
   "metadata": {},
   "outputs": [],
   "source": [
    " "
   ]
  }
 ],
 "metadata": {
  "kernelspec": {
   "display_name": "Python 3 (ipykernel)",
   "language": "python",
   "name": "python3"
  },
  "language_info": {
   "codemirror_mode": {
    "name": "ipython",
    "version": 3
   },
   "file_extension": ".py",
   "mimetype": "text/x-python",
   "name": "python",
   "nbconvert_exporter": "python",
   "pygments_lexer": "ipython3",
   "version": "3.9.12"
  }
 },
 "nbformat": 4,
 "nbformat_minor": 5
}
