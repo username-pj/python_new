{
 "cells": [
  {
   "cell_type": "markdown",
   "id": "62a721a9",
   "metadata": {},
   "source": [
    "# Decision Making\n",
    "### 21st Feb"
   ]
  },
  {
   "cell_type": "code",
   "execution_count": 3,
   "id": "2d63ab21",
   "metadata": {
    "scrolled": true
   },
   "outputs": [
    {
     "name": "stdout",
     "output_type": "stream",
     "text": [
      "Enter [r/s/p] p\n",
      "enter [r/p/s] s\n"
     ]
    }
   ],
   "source": [
    "p1=input(\"Enter [r/s/p] \")\n",
    "p2=input(\"enter [r/p/s] \")"
   ]
  },
  {
   "cell_type": "code",
   "execution_count": 5,
   "id": "3fdd298e",
   "metadata": {},
   "outputs": [
    {
     "name": "stdout",
     "output_type": "stream",
     "text": [
      "P1 wins P1 = p P2= s\n"
     ]
    }
   ],
   "source": [
    "if(p1==p2):\n",
    "    print(\"tie\")\n",
    "elif((p1=='r') or (p1=='R')) and ((p2=='s')or(p2=='S')):\n",
    "                                  print('p1 is winner',\"P1=\",p1,\"P2=\",p2) \n",
    "elif((p1=='s')or(p1=='S')) and ((p2=='r') or (p2=='R')):\n",
    "    print(\"P2 is the winner\",\"P1=\",p1,\"P2=\",p2)\n",
    "elif((p1=='r')or(p1=='R')) and ((p2=='p') or (p2=='P')):  \n",
    "    print(\"P2 wins\", \"P1=\",p1,\"P2=\",p2)\n",
    "elif((p1=='p') or (p1=='P') and (p1=='r') or (p1=='R')):\n",
    "    print(\"P1 wins\",\"P1 =\", p1,\"P2=\",p2)\n",
    "elif((p1=='s') or (p1=='S') and (p2=='p') or (p2=='P')):\n",
    "    print(\"P1 wins\",\"P1=\",p1,\"P2=\",p2)\n",
    "elif((p1=='p') or (p1==\"P\") and (p2=='s') or (p2=='S')):\n",
    "    print(\"P2 WINS\",\"P1=\",p1,\"P2=\",p2)"
   ]
  },
  {
   "cell_type": "code",
   "execution_count": 24,
   "id": "6867d310",
   "metadata": {},
   "outputs": [],
   "source": [
    "# generate a table"
   ]
  },
  {
   "cell_type": "code",
   "execution_count": 2,
   "id": "7d99414e",
   "metadata": {},
   "outputs": [
    {
     "name": "stdout",
     "output_type": "stream",
     "text": [
      "enter n 5\n",
      "5 X 1 = 5\n",
      "5 X 2 = 10\n",
      "5 X 3 = 15\n",
      "5 X 4 = 20\n",
      "5 X 5 = 25\n",
      "5 X 6 = 30\n",
      "5 X 7 = 35\n",
      "5 X 8 = 40\n",
      "5 X 9 = 45\n",
      "5 X 10 = 50\n"
     ]
    }
   ],
   "source": [
    "n =  int(input(\"enter n \"))\n",
    "for i in range (1,11):\n",
    "    print(n,\"X\",i,\"=\",n*i)"
   ]
  },
  {
   "cell_type": "code",
   "execution_count": 6,
   "id": "e9538847",
   "metadata": {},
   "outputs": [
    {
     "name": "stdout",
     "output_type": "stream",
     "text": [
      "enter n5\n",
      "1 X 1 = 1\n",
      "1 X 2 = 2\n",
      "1 X 3 = 3\n",
      "1 X 4 = 4\n",
      "1 X 5 = 5\n",
      "1 X 6 = 6\n",
      "1 X 7 = 7\n",
      "1 X 8 = 8\n",
      "1 X 9 = 9\n",
      "1 X 10 = 10\n",
      "2 X 1 = 2\n",
      "2 X 2 = 4\n",
      "2 X 3 = 6\n",
      "2 X 4 = 8\n",
      "2 X 5 = 10\n",
      "2 X 6 = 12\n",
      "2 X 7 = 14\n",
      "2 X 8 = 16\n",
      "2 X 9 = 18\n",
      "2 X 10 = 20\n",
      "3 X 1 = 3\n",
      "3 X 2 = 6\n",
      "3 X 3 = 9\n",
      "3 X 4 = 12\n",
      "3 X 5 = 15\n",
      "3 X 6 = 18\n",
      "3 X 7 = 21\n",
      "3 X 8 = 24\n",
      "3 X 9 = 27\n",
      "3 X 10 = 30\n",
      "4 X 1 = 4\n",
      "4 X 2 = 8\n",
      "4 X 3 = 12\n",
      "4 X 4 = 16\n",
      "4 X 5 = 20\n",
      "4 X 6 = 24\n",
      "4 X 7 = 28\n",
      "4 X 8 = 32\n",
      "4 X 9 = 36\n",
      "4 X 10 = 40\n"
     ]
    }
   ],
   "source": [
    "n = int(input(\"enter n\"))\n",
    "for i in range(1,n):\n",
    "    for j in range (1,11):\n",
    "        print(i,\"X\",j,\"=\",i*j)"
   ]
  },
  {
   "cell_type": "code",
   "execution_count": 7,
   "id": "e6be3983",
   "metadata": {},
   "outputs": [
    {
     "name": "stdout",
     "output_type": "stream",
     "text": [
      "enter n5\n",
      "1 X 1 = 1\n",
      "1 X 2 = 2\n",
      "1 X 3 = 3\n",
      "1 X 4 = 4\n",
      "1 X 5 = 5\n",
      "1 X 6 = 6\n",
      "1 X 7 = 7\n",
      "1 X 8 = 8\n",
      "1 X 9 = 9\n",
      "1 X 10 = 10\n",
      "2 X 1 = 2\n",
      "2 X 2 = 4\n",
      "2 X 3 = 6\n",
      "2 X 4 = 8\n",
      "2 X 5 = 10\n",
      "2 X 6 = 12\n",
      "2 X 7 = 14\n",
      "2 X 8 = 16\n",
      "2 X 9 = 18\n",
      "2 X 10 = 20\n",
      "3 X 1 = 3\n",
      "3 X 2 = 6\n",
      "3 X 3 = 9\n",
      "3 X 4 = 12\n",
      "3 X 5 = 15\n",
      "3 X 6 = 18\n",
      "3 X 7 = 21\n",
      "3 X 8 = 24\n",
      "3 X 9 = 27\n",
      "3 X 10 = 30\n",
      "4 X 1 = 4\n",
      "4 X 2 = 8\n",
      "4 X 3 = 12\n",
      "4 X 4 = 16\n",
      "4 X 5 = 20\n",
      "4 X 6 = 24\n",
      "4 X 7 = 28\n",
      "4 X 8 = 32\n",
      "4 X 9 = 36\n",
      "4 X 10 = 40\n",
      "5 X 1 = 5\n",
      "5 X 2 = 10\n",
      "5 X 3 = 15\n",
      "5 X 4 = 20\n",
      "5 X 5 = 25\n",
      "5 X 6 = 30\n",
      "5 X 7 = 35\n",
      "5 X 8 = 40\n",
      "5 X 9 = 45\n",
      "5 X 10 = 50\n"
     ]
    }
   ],
   "source": [
    "n = int(input(\"enter n\"))\n",
    "for i in range(1,n+1):\n",
    "    for j in range (1,11):\n",
    "        print(i,\"X\",j,\"=\",i*j)"
   ]
  },
  {
   "cell_type": "code",
   "execution_count": 11,
   "id": "76322a3b",
   "metadata": {},
   "outputs": [
    {
     "name": "stdout",
     "output_type": "stream",
     "text": [
      "enter n5\n",
      "1 X 1 = 1\n",
      "1 X 2 = 2\n",
      "1 X 3 = 3\n",
      "1 X 4 = 4\n",
      "1 X 5 = 5\n",
      "1 X 6 = 6\n",
      "1 X 7 = 7\n",
      "1 X 8 = 8\n",
      "1 X 9 = 9\n",
      "1 X 10 = 10\n",
      "\n",
      "------\n",
      "\n",
      "2 X 1 = 2\n",
      "2 X 2 = 4\n",
      "2 X 3 = 6\n",
      "2 X 4 = 8\n",
      "2 X 5 = 10\n",
      "2 X 6 = 12\n",
      "2 X 7 = 14\n",
      "2 X 8 = 16\n",
      "2 X 9 = 18\n",
      "2 X 10 = 20\n",
      "\n",
      "------\n",
      "\n",
      "3 X 1 = 3\n",
      "3 X 2 = 6\n",
      "3 X 3 = 9\n",
      "3 X 4 = 12\n",
      "3 X 5 = 15\n",
      "3 X 6 = 18\n",
      "3 X 7 = 21\n",
      "3 X 8 = 24\n",
      "3 X 9 = 27\n",
      "3 X 10 = 30\n",
      "\n",
      "------\n",
      "\n",
      "4 X 1 = 4\n",
      "4 X 2 = 8\n",
      "4 X 3 = 12\n",
      "4 X 4 = 16\n",
      "4 X 5 = 20\n",
      "4 X 6 = 24\n",
      "4 X 7 = 28\n",
      "4 X 8 = 32\n",
      "4 X 9 = 36\n",
      "4 X 10 = 40\n",
      "\n",
      "------\n",
      "\n",
      "5 X 1 = 5\n",
      "5 X 2 = 10\n",
      "5 X 3 = 15\n",
      "5 X 4 = 20\n",
      "5 X 5 = 25\n",
      "5 X 6 = 30\n",
      "5 X 7 = 35\n",
      "5 X 8 = 40\n",
      "5 X 9 = 45\n",
      "5 X 10 = 50\n",
      "\n",
      "------\n",
      "\n"
     ]
    }
   ],
   "source": [
    "#if one for loop is inside another for loop we call it nesting\n",
    "n = int(input(\"enter n\"))\n",
    "for i in range(1,n+1):\n",
    "    for j in range (1,11):\n",
    "        print(i,\"X\",j,\"=\",i*j)\n",
    "    print(\"\\n------\\n\")"
   ]
  },
  {
   "cell_type": "markdown",
   "id": "ade29095",
   "metadata": {},
   "source": [
    "# guess a number game"
   ]
  },
  {
   "cell_type": "code",
   "execution_count": 5,
   "id": "ba33d913",
   "metadata": {},
   "outputs": [
    {
     "name": "stdout",
     "output_type": "stream",
     "text": [
      "enter a number6\n"
     ]
    }
   ],
   "source": [
    "import random\n",
    "n1=random.randint(1,9)\n",
    "n1\n",
    "n2=int(input(\"enter a number\"))"
   ]
  },
  {
   "cell_type": "code",
   "execution_count": 6,
   "id": "eddb7c46",
   "metadata": {},
   "outputs": [
    {
     "name": "stdout",
     "output_type": "stream",
     "text": [
      "n1= 5 \t n2= 6\n",
      "you missed the chance\n"
     ]
    }
   ],
   "source": [
    "if(n1==n2):\n",
    "    print(\"I guessed a correct number\\n congratulations...!!\")\n",
    "else:\n",
    "    print(\"n1=\",n1,\"\\t\",\"n2=\",n2)\n",
    "    print(\"you missed the chance\")\n",
    "        "
   ]
  },
  {
   "cell_type": "markdown",
   "id": "ad6d3e25",
   "metadata": {},
   "source": [
    "## infinite loop"
   ]
  },
  {
   "cell_type": "code",
   "execution_count": null,
   "id": "25a78c17",
   "metadata": {},
   "outputs": [
    {
     "name": "stdout",
     "output_type": "stream",
     "text": [
      "enter a number3\n",
      "enter a number4\n",
      "enter a number4\n",
      "enter a number5\n"
     ]
    }
   ],
   "source": [
    "import random\n",
    "while(1):\n",
    "    n1=random.randint(1,9)\n",
    "    n2=int(input(\"enter a number\"))"
   ]
  },
  {
   "cell_type": "code",
   "execution_count": null,
   "id": "e61049a6",
   "metadata": {},
   "outputs": [],
   "source": [
    "#it keeps entering numbers"
   ]
  },
  {
   "cell_type": "code",
   "execution_count": null,
   "id": "261db632",
   "metadata": {},
   "outputs": [
    {
     "name": "stdout",
     "output_type": "stream",
     "text": [
      "enter a number8\n"
     ]
    }
   ],
   "source": [
    "# can also be written as \n",
    "import random\n",
    "while(True):\n",
    "    n1=random.randint(1,9)\n",
    "    n2=int(input(\"enter a number\"))"
   ]
  },
  {
   "cell_type": "code",
   "execution_count": 3,
   "id": "5f4c65f8",
   "metadata": {},
   "outputs": [
    {
     "name": "stdout",
     "output_type": "stream",
     "text": [
      "enter a number4\n",
      "n1= 5 \t n2= 4\n",
      "you missed the chance\n",
      "do u want to continue (y/n) y\n",
      "enter a number5\n",
      "n1= 3 \t n2= 5\n",
      "you missed the chance\n",
      "do u want to continue (y/n) n\n"
     ]
    }
   ],
   "source": [
    "import random\n",
    "while(True):\n",
    "    n1=random.randint(1,9)\n",
    "    n2=int(input(\"enter a number\"))\n",
    "    \n",
    "    if(n1==n2):\n",
    "        print(\"n1=\",n1,\"\\t\",\"n2=\",n2)\n",
    "        print(\"I guessed a correct number\\n congratulations...!!\")\n",
    "    else:\n",
    "        print(\"n1=\",n1,\"\\t\",\"n2=\",n2)\n",
    "        print(\"you missed the chance\")\n",
    "        ch = input(\"do u want to continue (y/n) \")\n",
    "        if(ch=='y') or (ch==\"Y\"):\n",
    "            continue\n",
    "        else:\n",
    "            break\n",
    "    \n",
    "    "
   ]
  },
  {
   "cell_type": "code",
   "execution_count": 5,
   "id": "e1da83c6",
   "metadata": {},
   "outputs": [
    {
     "name": "stdout",
     "output_type": "stream",
     "text": [
      "1+2+3+4+5+6+7+8+9+10+\t sum of series = 10\n"
     ]
    }
   ],
   "source": [
    "s=0\n",
    "for i in range (1, 11):\n",
    "    s= s+1\n",
    "    print(i, end=\"+\")\n",
    "print(\"\\t sum of series =\", s)"
   ]
  },
  {
   "cell_type": "code",
   "execution_count": 7,
   "id": "28a69256",
   "metadata": {},
   "outputs": [
    {
     "name": "stdout",
     "output_type": "stream",
     "text": [
      "1²+2²+3²+4²+5²+6²+7²+8²+9²+10²+"
     ]
    }
   ],
   "source": [
    "for i in range(1,11):\n",
    "    print(\"{0}{1}\".format(i,'\\u00B2'),end='+')"
   ]
  },
  {
   "cell_type": "code",
   "execution_count": 8,
   "id": "044e7802",
   "metadata": {},
   "outputs": [
    {
     "name": "stdout",
     "output_type": "stream",
     "text": [
      "1³+2³+3³+4³+5³+6³+7³+8³+9³+10³+"
     ]
    }
   ],
   "source": [
    "for i in range(1,11):\n",
    "    print(\"{0}{1}\".format(i,'\\u00B3'),end='+')"
   ]
  },
  {
   "cell_type": "code",
   "execution_count": 9,
   "id": "94ef3ff0",
   "metadata": {},
   "outputs": [],
   "source": [
    "# used for superscript '\\u00B3'"
   ]
  },
  {
   "cell_type": "code",
   "execution_count": 1,
   "id": "ec2f49db",
   "metadata": {},
   "outputs": [
    {
     "name": "stdout",
     "output_type": "stream",
     "text": [
      "Do you want to continue (y/n)? y\n",
      "Do you want to continue (y/n)? n\n"
     ]
    }
   ],
   "source": [
    " import tkinter as tk\n",
    "import random\n",
    "\n",
    "def guess_number():\n",
    "    n1 = random.randint(1, 9)\n",
    "    n2 = int(entry.get())\n",
    "    result_label.config(text=f\"n1={n1}\\t n2={n2}\")\n",
    "    if n1 == n2:\n",
    "        result_label.config(text=\"I guessed a correct number\\nCongratulations...!!\")\n",
    "    else:\n",
    "        result_label.config(text=\"You missed the chance\")\n",
    "        ch = input(\"Do you want to continue (y/n)? \")\n",
    "        if ch.lower() == 'y':\n",
    "            pass\n",
    "        else:\n",
    "            root.destroy()\n",
    "\n",
    "root = tk.Tk()\n",
    "root.title(\"Number Guessing Game\")\n",
    "\n",
    "label = tk.Label(root, text=\"Enter a number:\")\n",
    "label.pack()\n",
    "\n",
    "entry = tk.Entry(root)\n",
    "entry.pack()\n",
    "\n",
    "guess_button = tk.Button(root, text=\"Guess\", command=guess_number)\n",
    "guess_button.pack()\n",
    "\n",
    "result_label = tk.Label(root, text=\"\")\n",
    "result_label.pack()\n",
    "\n",
    "root.mainloop()\n"
   ]
  },
  {
   "cell_type": "code",
   "execution_count": 3,
   "id": "aa3ce6cc",
   "metadata": {},
   "outputs": [
    {
     "name": "stdout",
     "output_type": "stream",
     "text": [
      "command\n",
      "command\n"
     ]
    }
   ],
   "source": [
    "import tkinter as tk\n",
    "import tkinter.font as tkFont\n",
    "\n",
    "class App:\n",
    "    def __init__(self, root):\n",
    "        #setting title\n",
    "        root.title(\"undefined\")\n",
    "        #setting window size\n",
    "        width=600\n",
    "        height=500\n",
    "        screenwidth = root.winfo_screenwidth()\n",
    "        screenheight = root.winfo_screenheight()\n",
    "        alignstr = '%dx%d+%d+%d' % (width, height, (screenwidth - width) / 2, (screenheight - height) / 2)\n",
    "        root.geometry(alignstr)\n",
    "        root.resizable(width=False, height=False)\n",
    "\n",
    "        GLabel_739=tk.Label(root)\n",
    "        ft = tkFont.Font(family='Times',size=10)\n",
    "        GLabel_739[\"font\"] = ft\n",
    "        GLabel_739[\"fg\"] = \"#333333\"\n",
    "        GLabel_739[\"justify\"] = \"center\"\n",
    "        GLabel_739[\"text\"] = \"Enter number\"\n",
    "        GLabel_739.place(x=60,y=90,width=80,height=30)\n",
    "\n",
    "        GLineEdit_355=tk.Entry(root)\n",
    "        GLineEdit_355[\"borderwidth\"] = \"1px\"\n",
    "        ft = tkFont.Font(family='Times',size=10)\n",
    "        GLineEdit_355[\"font\"] = ft\n",
    "        GLineEdit_355[\"fg\"] = \"#333333\"\n",
    "        GLineEdit_355[\"justify\"] = \"center\"\n",
    "        GLineEdit_355[\"text\"] = \"Entry\"\n",
    "        GLineEdit_355.place(x=310,y=90,width=138,height=30)\n",
    "\n",
    "        GButton_109=tk.Button(root)\n",
    "        GButton_109[\"bg\"] = \"#f0f0f0\"\n",
    "        ft = tkFont.Font(family='Times',size=10)\n",
    "        GButton_109[\"font\"] = ft\n",
    "        GButton_109[\"fg\"] = \"#000000\"\n",
    "        GButton_109[\"justify\"] = \"center\"\n",
    "        GButton_109[\"text\"] = \"Guess\"\n",
    "        GButton_109.place(x=220,y=150,width=70,height=25)\n",
    "        GButton_109[\"command\"] = self.GButton_109_command\n",
    "\n",
    "        GLabel_883=tk.Label(root)\n",
    "        ft = tkFont.Font(family='Times',size=10)\n",
    "        GLabel_883[\"font\"] = ft\n",
    "        GLabel_883[\"fg\"] = \"#333333\"\n",
    "        GLabel_883[\"justify\"] = \"center\"\n",
    "        GLabel_883[\"text\"] = \"DO You Want to Continue\"\n",
    "        GLabel_883.place(x=50,y=220,width=145,height=30)\n",
    "\n",
    "        GButton_79=tk.Button(root)\n",
    "        GButton_79[\"bg\"] = \"#24520d\"\n",
    "        ft = tkFont.Font(family='Times',size=10)\n",
    "        GButton_79[\"font\"] = ft\n",
    "        GButton_79[\"fg\"] = \"#fbf5f5\"\n",
    "        GButton_79[\"justify\"] = \"center\"\n",
    "        GButton_79[\"text\"] = \"Yes\"\n",
    "        GButton_79.place(x=230,y=220,width=70,height=25)\n",
    "        GButton_79[\"command\"] = self.GButton_79_command\n",
    "\n",
    "        GButton_25=tk.Button(root)\n",
    "        GButton_25[\"bg\"] = \"#e31a1a\"\n",
    "        ft = tkFont.Font(family='Times',size=10)\n",
    "        GButton_25[\"font\"] = ft\n",
    "        GButton_25[\"fg\"] = \"#f7efef\"\n",
    "        GButton_25[\"justify\"] = \"center\"\n",
    "        GButton_25[\"text\"] = \"No\"\n",
    "        GButton_25.place(x=340,y=220,width=70,height=25)\n",
    "        GButton_25[\"command\"] = self.GButton_25_command\n",
    "\n",
    "        GMessage_0=tk.Message(root)\n",
    "        ft = tkFont.Font(family='Times',size=10)\n",
    "        GMessage_0[\"font\"] = ft\n",
    "        GMessage_0[\"fg\"] = \"#333333\"\n",
    "        GMessage_0[\"justify\"] = \"center\"\n",
    "        GMessage_0[\"text\"] = \"Message\"\n",
    "        GMessage_0.place(x=680,y=280,width=80,height=25)\n",
    "\n",
    "    def GButton_109_command(self):\n",
    "        print(\"command\")\n",
    "\n",
    "\n",
    "    def GButton_79_command(self):\n",
    "        print(\"command\")\n",
    "\n",
    "\n",
    "    def GButton_25_command(self):\n",
    "        print(\"command\")\n",
    "\n",
    "if __name__ == \"__main__\":\n",
    "    root = tk.Tk()\n",
    "    app = App(root)\n",
    "    root.mainloop()\n"
   ]
  },
  {
   "cell_type": "code",
   "execution_count": 4,
   "id": "4180a509",
   "metadata": {},
   "outputs": [],
   "source": [
    "import tkinter as tk\n",
    "import tkinter.font as tkFont\n",
    "import random\n",
    "\n",
    "class App:\n",
    "    def __init__(self, root):\n",
    "        # setting title\n",
    "        root.title(\"Number Guessing Game\")\n",
    "        # setting window size\n",
    "        width = 600\n",
    "        height = 500\n",
    "        screenwidth = root.winfo_screenwidth()\n",
    "        screenheight = root.winfo_screenheight()\n",
    "        alignstr = '%dx%d+%d+%d' % ((width, height) + ((screenwidth - width) / 2, (screenheight - height) / 2))\n",
    "        root.geometry(alignstr)\n",
    "        root.resizable(width=False, height=False)\n",
    "\n",
    "        self.number_to_guess = random.randint(1, 9)\n",
    "\n",
    "        self.GLabel_739 = tk.Label(root)\n",
    "        ft = tkFont.Font(family='Times', size=10)\n",
    "        self.GLabel_739[\"font\"] = ft\n",
    "        self.GLabel_739[\"fg\"] = \"#333333\"\n",
    "        self.GLabel_739[\"justify\"] = \"center\"\n",
    "        self.GLabel_739[\"text\"] = \"Enter number\"\n",
    "        self.GLabel_739.place(x=60, y=90, width=80, height=30)\n",
    "\n",
    "        self.GLineEdit_355 = tk.Entry(root)\n",
    "        self.GLineEdit_355[\"borderwidth\"] = \"1px\"\n",
    "        ft = tkFont.Font(family='Times', size=10)\n",
    "        self.GLineEdit_355[\"font\"] = ft\n",
    "        self.GLineEdit_355[\"fg\"] = \"#333333\"\n",
    "        self.GLineEdit_355[\"justify\"] = \"center\"\n",
    "        self.GLineEdit_355.place(x=310, y=90, width=138, height=30)\n",
    "\n",
    "        self.GButton_109 = tk.Button(root)\n",
    "        self.GButton_109[\"bg\"] = \"#f0f0f0\"\n",
    "        ft = tkFont.Font(family='Times', size=10)\n",
    "        self.GButton_109[\"font\"] = ft\n",
    "        self.GButton_109[\"fg\"] = \"#000000\"\n",
    "        self.GButton_109[\"justify\"] = \"center\"\n",
    "        self.GButton_109[\"text\"] = \"Guess\"\n",
    "        self.GButton_109.place(x=220, y=150, width=70, height=25)\n",
    "        self.GButton_109[\"command\"] = self.GButton_109_command\n",
    "\n",
    "        self.GLabel_883 = tk.Label(root)\n",
    "        ft = tkFont.Font(family='Times', size=10)\n",
    "        self.GLabel_883[\"font\"] = ft\n",
    "        self.GLabel_883[\"fg\"] = \"#333333\"\n",
    "        self.GLabel_883[\"justify\"] = \"center\"\n",
    "        self.GLabel_883[\"text\"] = \"Do You Want to Continue\"\n",
    "        self.GLabel_883.place(x=50, y=220, width=145, height=30)\n",
    "\n",
    "        self.GButton_79 = tk.Button(root)\n",
    "        self.GButton_79[\"bg\"] = \"#24520d\"\n",
    "        ft = tkFont.Font(family='Times', size=10)\n",
    "        self.GButton_79[\"font\"] = ft\n",
    "        self.GButton_79[\"fg\"] = \"#fbf5f5\"\n",
    "        self.GButton_79[\"justify\"] = \"center\"\n",
    "        self.GButton_79[\"text\"] = \"Yes\"\n",
    "        self.GButton_79.place(x=230, y=220, width=70, height=25)\n",
    "        self.GButton_79[\"command\"] = self.GButton_79_command\n",
    "\n",
    "        self.GButton_25 = tk.Button(root)\n",
    "        self.GButton_25[\"bg\"] = \"#e31a1a\"\n",
    "        ft = tkFont.Font(family='Times', size=10)\n",
    "        self.GButton_25[\"font\"] = ft\n",
    "        self.GButton_25[\"fg\"] = \"#f7efef\"\n",
    "        self.GButton_25[\"justify\"] = \"center\"\n",
    "        self.GButton_25[\"text\"] = \"No\"\n",
    "        self.GButton_25.place(x=340, y=220, width=70, height=25)\n",
    "        self.GButton_25[\"command\"] = self.GButton_25_command\n",
    "\n",
    "        self.GMessage_0 = tk.Message(root)\n",
    "        ft = tkFont.Font(family='Times', size=10)\n",
    "        self.GMessage_0[\"font\"] = ft\n",
    "        self.GMessage_0[\"fg\"] = \"#333333\"\n",
    "        self.GMessage_0[\"justify\"] = \"center\"\n",
    "        self.GMessage_0[\"text\"] = \"Message\"\n",
    "        self.GMessage_0.place(x=680, y=280, width=80, height=25)\n",
    "\n",
    "    def GButton_109_command(self):\n",
    "        user_guess = int(self.GLineEdit_355.get())\n",
    "        if user_guess == self.number_to_guess:\n",
    "            self.GMessage_0.config(text=\"I guessed a correct number\\nCongratulations...!!\")\n",
    "        else:\n",
    "            self.GMessage_0.config(text=\"You missed the chance\")\n",
    "\n",
    "    def GButton_79_command(self):\n",
    "        self.number_to_guess = random.randint(1, 9)\n",
    "        self.GLineEdit_355.delete(0, tk.END)\n",
    "        self.GMessage_0.config(text=\"\")\n",
    "\n",
    "    def GButton_25_command(self):\n",
    "        self.GLineEdit_355.delete(0, tk.END)\n",
    "        self.GMessage_0.config(text=\"\")\n",
    "\n",
    "if __name__ == \"__main__\":\n",
    "    root = tk.Tk()\n",
    "    app = App(root)\n",
    "    root.mainloop()\n"
   ]
  },
  {
   "cell_type": "code",
   "execution_count": 5,
   "id": "8c037bde",
   "metadata": {},
   "outputs": [],
   "source": [
    "import tkinter as tk\n",
    "\n",
    "def convert():\n",
    "    try:\n",
    "        feet = float(feet_entry.get())\n",
    "        inches = feet * 12\n",
    "        result_label.config(text=f\"{feet} feet = {inches} inches\")\n",
    "    except ValueError:\n",
    "        result_label.config(text=\"Please enter a valid number for feet.\")\n",
    "\n",
    "root = tk.Tk()\n",
    "root.title(\"Feet to Inches Converter\")\n",
    "\n",
    "frame = tk.Frame(root)\n",
    "frame.pack(padx=20, pady=20)\n",
    "\n",
    "feet_label = tk.Label(frame, text=\"Feet:\")\n",
    "feet_label.grid(row=0, column=0)\n",
    "\n",
    "feet_entry = tk.Entry(frame)\n",
    "feet_entry.grid(row=0, column=1)\n",
    "\n",
    "convert_button = tk.Button(frame, text=\"Convert\", command=convert)\n",
    "convert_button.grid(row=1, columnspan=2)\n",
    "\n",
    "result_label = tk.Label(frame, text=\"\")\n",
    "result_label.grid(row=2, columnspan=2)\n",
    "\n",
    "root.mainloop()\n"
   ]
  },
  {
   "cell_type": "code",
   "execution_count": null,
   "id": "aa07f821",
   "metadata": {},
   "outputs": [],
   "source": []
  }
 ],
 "metadata": {
  "kernelspec": {
   "display_name": "Python 3 (ipykernel)",
   "language": "python",
   "name": "python3"
  },
  "language_info": {
   "codemirror_mode": {
    "name": "ipython",
    "version": 3
   },
   "file_extension": ".py",
   "mimetype": "text/x-python",
   "name": "python",
   "nbconvert_exporter": "python",
   "pygments_lexer": "ipython3",
   "version": "3.9.12"
  }
 },
 "nbformat": 4,
 "nbformat_minor": 5
}
