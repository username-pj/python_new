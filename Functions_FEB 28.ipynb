{
 "cells": [
  {
   "cell_type": "markdown",
   "id": "40827111",
   "metadata": {},
   "source": [
    "# FUNCTIONS"
   ]
  },
  {
   "cell_type": "code",
   "execution_count": 7,
   "id": "4ca8773a",
   "metadata": {},
   "outputs": [
    {
     "name": "stdout",
     "output_type": "stream",
     "text": [
      "Addition of 2 + 4 = 6\n"
     ]
    }
   ],
   "source": [
    "def Add():\n",
    "    a=2\n",
    "    b=4\n",
    "    c=a+b\n",
    "    print(\"Addition of\",a,\"+\",b,\"=\",c)\n",
    "Add()"
   ]
  },
  {
   "cell_type": "code",
   "execution_count": 9,
   "id": "5b003ce8",
   "metadata": {},
   "outputs": [],
   "source": [
    "#the same program but with an input parameter\n",
    "def Add(a,b):\n",
    "    c=a+b\n",
    "    print(\"Addition of\",a,\"+\",b,\"=\",c)\n",
    "a=int(input(\"enter a\"))\n",
    "b=int(input(\"enter b\"))\n",
    "Add(a,b)"
   ]
  },
  {
   "cell_type": "code",
   "execution_count": null,
   "id": "823c1cf6",
   "metadata": {},
   "outputs": [],
   "source": [
    "Add(a,b)"
   ]
  },
  {
   "cell_type": "code",
   "execution_count": 10,
   "id": "05d06978",
   "metadata": {},
   "outputs": [],
   "source": [
    "def Add(a,b):\n",
    "    c=a+b\n",
    "    return c"
   ]
  },
  {
   "cell_type": "code",
   "execution_count": 11,
   "id": "fa55ef30",
   "metadata": {},
   "outputs": [
    {
     "name": "stdout",
     "output_type": "stream",
     "text": [
      "enter a6\n",
      "enter b9\n",
      "15\n"
     ]
    }
   ],
   "source": [
    "a=int(input(\"enter a\"))\n",
    "b=int(input(\"enter b\"))\n",
    "R=Add(a,b)\n",
    "print(R)"
   ]
  },
  {
   "cell_type": "code",
   "execution_count": null,
   "id": "12b12223",
   "metadata": {},
   "outputs": [],
   "source": [
    "#accept age and salary fromuser and perfomr the following\n",
    "#1.ReadData() to accept inputs fromuser \n",
    "#2.Calculate() hike of 25% for the existing salary\n",
    "#3.Display()print the calculated salary and age"
   ]
  },
  {
   "cell_type": "code",
   "execution_count": 12,
   "id": "42998107",
   "metadata": {},
   "outputs": [],
   "source": [
    "def ReadData():\n",
    "    age=int(input(\"enter age\"))\n",
    "    sal=int(input(\"enter salary\"))\n",
    "    return(age,sal)"
   ]
  },
  {
   "cell_type": "code",
   "execution_count": 13,
   "id": "96472c75",
   "metadata": {},
   "outputs": [],
   "source": [
    "def Calculate():\n",
    "    A,S=ReadData()\n",
    "    NetSal=S+(S*0.25)\n",
    "    return(NetSal)"
   ]
  },
  {
   "cell_type": "code",
   "execution_count": 14,
   "id": "2a9eec61",
   "metadata": {},
   "outputs": [],
   "source": [
    "def Display():\n",
    "    R=Calculate()\n",
    "    print(R)"
   ]
  },
  {
   "cell_type": "code",
   "execution_count": 16,
   "id": "8d6eee2f",
   "metadata": {},
   "outputs": [
    {
     "name": "stdout",
     "output_type": "stream",
     "text": [
      "enter age23\n",
      "enter salary45000\n",
      "56250.0\n"
     ]
    }
   ],
   "source": [
    "Display()"
   ]
  },
  {
   "cell_type": "code",
   "execution_count": null,
   "id": "4d3854e4",
   "metadata": {},
   "outputs": [],
   "source": [
    "#Modularize: break the complete sequential flow  flow of one single program into small pieces of code \n",
    "    #easy to use small code specific a problem instead of focusing on entire code\n",
    "    #write once call many times \n",
    "    #code will be smaller , more efficient etc"
   ]
  },
  {
   "cell_type": "code",
   "execution_count": 29,
   "id": "ede071a7",
   "metadata": {},
   "outputs": [],
   "source": [
    "#function to find factorial of a number\n",
    "def ReadData():\n",
    "    n=int(input(\"enter n\"))\n",
    "    return n "
   ]
  },
  {
   "cell_type": "code",
   "execution_count": 30,
   "id": "331edef1",
   "metadata": {},
   "outputs": [],
   "source": [
    "def calculate(n):\n",
    "    f=1\n",
    "    for i in range(1,n+1):\n",
    "        f=f*i\n",
    "    return(f)"
   ]
  },
  {
   "cell_type": "code",
   "execution_count": 31,
   "id": "36cdf81a",
   "metadata": {},
   "outputs": [],
   "source": [
    "def Display(n,f):\n",
    "    print(\"Factorial of {0} is {1} \".format(n,f))"
   ]
  },
  {
   "cell_type": "code",
   "execution_count": 40,
   "id": "4f7d45d4",
   "metadata": {
    "scrolled": true
   },
   "outputs": [
    {
     "name": "stdout",
     "output_type": "stream",
     "text": [
      "enter n 5\n",
      "Factorial of 5 is 120 \n"
     ]
    }
   ],
   "source": [
    "#calling functions\n",
    "Num= ReadData()\n",
    "fact=calculate(Num)\n",
    "Display(Num,fact)"
   ]
  },
  {
   "cell_type": "code",
   "execution_count": 41,
   "id": "15a87d50",
   "metadata": {},
   "outputs": [
    {
     "name": "stdout",
     "output_type": "stream",
     "text": [
      "0\n",
      "1\n",
      "2\n",
      "3\n",
      "4\n"
     ]
    },
    {
     "data": {
      "text/plain": [
       "4"
      ]
     },
     "execution_count": 41,
     "metadata": {},
     "output_type": "execute_result"
    }
   ],
   "source": [
    "for i in range(5):\n",
    "    print(i)\n",
    "i"
   ]
  },
  {
   "cell_type": "markdown",
   "id": "bb36b034",
   "metadata": {},
   "source": [
    "# List"
   ]
  },
  {
   "cell_type": "code",
   "execution_count": 42,
   "id": "08c790e1",
   "metadata": {},
   "outputs": [
    {
     "data": {
      "text/plain": [
       "list"
      ]
     },
     "execution_count": 42,
     "metadata": {},
     "output_type": "execute_result"
    }
   ],
   "source": [
    "#list is a datastructure\n",
    "#how the data is represented in the memory of the computer-datastructure\n",
    "#list is representation of a node along with memory\n",
    "L1=[]\n",
    "type(L1)"
   ]
  },
  {
   "cell_type": "code",
   "execution_count": 43,
   "id": "65c6004a",
   "metadata": {},
   "outputs": [
    {
     "data": {
      "text/plain": [
       "[]"
      ]
     },
     "execution_count": 43,
     "metadata": {},
     "output_type": "execute_result"
    }
   ],
   "source": [
    "L1"
   ]
  },
  {
   "cell_type": "code",
   "execution_count": 44,
   "id": "5fd5e1e2",
   "metadata": {},
   "outputs": [
    {
     "data": {
      "text/plain": [
       "[]"
      ]
     },
     "execution_count": 44,
     "metadata": {},
     "output_type": "execute_result"
    }
   ],
   "source": [
    "L2=list()\n",
    "L2"
   ]
  },
  {
   "cell_type": "code",
   "execution_count": null,
   "id": "bfb0c218",
   "metadata": {},
   "outputs": [],
   "source": [
    "#the above r two ways to create empty lists"
   ]
  },
  {
   "cell_type": "code",
   "execution_count": 45,
   "id": "30271389",
   "metadata": {},
   "outputs": [
    {
     "data": {
      "text/plain": [
       "[1, 2, 3, 4, 5, 6, 710, 2903, 90]"
      ]
     },
     "execution_count": 45,
     "metadata": {},
     "output_type": "execute_result"
    }
   ],
   "source": [
    "L1=[1,2,3,4,5,6,710,2903,90]\n",
    "L1"
   ]
  },
  {
   "cell_type": "code",
   "execution_count": 49,
   "id": "3daee8ec",
   "metadata": {},
   "outputs": [
    {
     "data": {
      "text/plain": [
       "list"
      ]
     },
     "execution_count": 49,
     "metadata": {},
     "output_type": "execute_result"
    }
   ],
   "source": [
    "L2=list()\n",
    "type(L2)"
   ]
  },
  {
   "cell_type": "code",
   "execution_count": 47,
   "id": "99eecde1",
   "metadata": {},
   "outputs": [
    {
     "data": {
      "text/plain": [
       "[]"
      ]
     },
     "execution_count": 47,
     "metadata": {},
     "output_type": "execute_result"
    }
   ],
   "source": [
    "l3=list()\n",
    "l3"
   ]
  },
  {
   "cell_type": "code",
   "execution_count": 50,
   "id": "00c6d022",
   "metadata": {},
   "outputs": [
    {
     "data": {
      "text/plain": [
       "[1, 2, 3, 4, 5, 6, 710, 2903, 90, 100]"
      ]
     },
     "execution_count": 50,
     "metadata": {},
     "output_type": "execute_result"
    }
   ],
   "source": [
    "#built in functions under this\n",
    "#append hlepd add something to the end of the list\n",
    "L1.append(100)\n",
    "L1\n"
   ]
  },
  {
   "cell_type": "code",
   "execution_count": 51,
   "id": "29edce00",
   "metadata": {},
   "outputs": [
    {
     "data": {
      "text/plain": [
       "[1, 2, 3, 4, 200, 5, 6, 710, 2903, 90, 100]"
      ]
     },
     "execution_count": 51,
     "metadata": {},
     "output_type": "execute_result"
    }
   ],
   "source": [
    "#to add something bw 4 and 5 \n",
    "L1.insert(4,200)\n",
    "L1\n",
    "#here the 4 is the position where the positions start from 0,1,2,3..\n"
   ]
  },
  {
   "cell_type": "code",
   "execution_count": 53,
   "id": "fbdfcfb4",
   "metadata": {},
   "outputs": [
    {
     "name": "stdout",
     "output_type": "stream",
     "text": [
      "enter how many elements you want10\n",
      "enter an element100\n",
      "enter an element3\n",
      "enter an element5\n",
      "enter an element8\n",
      "enter an element9\n",
      "enter an element0\n",
      "enter an element12\n",
      "enter an element34\n",
      "enter an element22\n",
      "enter an element56\n"
     ]
    },
    {
     "data": {
      "text/plain": [
       "[100, 3, 5, 8, 9, 0, 12, 34, 22, 56]"
      ]
     },
     "execution_count": 53,
     "metadata": {},
     "output_type": "execute_result"
    }
   ],
   "source": [
    "L2=[]\n",
    "n=int(input(\"enter how many elements you want\"))\n",
    "for i in range(n):\n",
    "    E=int(input(\"enter an element\"))\n",
    "    L2.append(E)\n",
    "L2"
   ]
  },
  {
   "cell_type": "code",
   "execution_count": 2,
   "id": "886efb1c",
   "metadata": {},
   "outputs": [
    {
     "name": "stdout",
     "output_type": "stream",
     "text": [
      "enter how many students you want2\n",
      "enter your name Rose\n",
      "enter M1 33\n",
      "enter M244\n",
      "enter M3 55\n",
      "enter M4 66\n",
      "enter M5 77\n",
      "enter M6 88\n",
      "------------\n",
      "\n",
      "Rose Marks\n",
      "total= 363 \t Average= 60.5\n",
      "enter your name Uma\n",
      "enter M1 99\n",
      "enter M298\n",
      "enter M3 97\n",
      "enter M4 96\n",
      "enter M5 95\n",
      "enter M6 94\n",
      "------------\n",
      "\n",
      "Uma Marks\n",
      "total= 579 \t Average= 96.5\n"
     ]
    }
   ],
   "source": [
    "#ACCEPT name of a student 6 subject marks using list\n",
    "Marks=[]\n",
    "n=int(input(\"enter how many students you want\"))\n",
    "for i in range(n):\n",
    "    Nm=input(\"enter your name \")\n",
    "    M1=int(input(\"enter M1 \"))\n",
    "    Marks.append(M1)\n",
    "    M2=int(input(\"enter M2\"))\n",
    "    Marks.append(M2)\n",
    "    M3=int(input(\"enter M3 \"))\n",
    "    Marks.append(M3)\n",
    "    M4=int(input(\"enter M4 \"))\n",
    "    Marks.append(M4)\n",
    "    M5=int(input(\"enter M5 \"))\n",
    "    Marks.append(M5)\n",
    "    M6=int(input(\"enter M6 \"))\n",
    "    Marks.append(M6)\n",
    "    Sum= M1+M2+M3+M4+M5+M6\n",
    "    Avg=Sum/6\n",
    "    print(\"------------\\n\")\n",
    "    print(Nm,\"Marks\")\n",
    "    print(\"total=\",Sum,\"\\t\",\"Average=\",Avg)"
   ]
  },
  {
   "cell_type": "markdown",
   "id": "0168e462",
   "metadata": {},
   "source": []
  },
  {
   "cell_type": "code",
   "execution_count": 1,
   "id": "5fb26035",
   "metadata": {},
   "outputs": [
    {
     "name": "stdout",
     "output_type": "stream",
     "text": [
      "enter a number10\n",
      "enter an element7\n",
      "enter an element5\n",
      "enter an element8\n",
      "enter an element3\n",
      "enter an element9\n",
      "enter an element1\n",
      "enter an element2\n",
      "enter an element4\n",
      "enter an element0\n",
      "enter an element6\n"
     ]
    },
    {
     "data": {
      "text/plain": [
       "[7, 5, 8, 3, 9, 1, 2, 4, 0, 6]"
      ]
     },
     "execution_count": 1,
     "metadata": {},
     "output_type": "execute_result"
    }
   ],
   "source": [
    "n=int(input(\"enter a number\"))\n",
    "LS=[]\n",
    "for i in range(n):\n",
    "    E=int(input(\"enter an element\"))\n",
    "    LS.append(E)\n",
    "LS"
   ]
  },
  {
   "cell_type": "code",
   "execution_count": 4,
   "id": "dda76ec7",
   "metadata": {},
   "outputs": [
    {
     "data": {
      "text/plain": [
       "1"
      ]
     },
     "execution_count": 4,
     "metadata": {},
     "output_type": "execute_result"
    }
   ],
   "source": [
    "#compare elements in position 0 and 1\n",
    "LS[0]#accessing position 0"
   ]
  },
  {
   "cell_type": "code",
   "execution_count": 7,
   "id": "0dec9ab6",
   "metadata": {},
   "outputs": [],
   "source": [
    "#bubble sort technique compares two elements\n",
    "#if first element is larger , exchange, if not, dont\n",
    "#for i in range(n):\n",
    " #   if(LS[i]>LS[i+1]):\n",
    "  #      T=LS[i]\n",
    "   #     LS[i+1]=T\n",
    "        "
   ]
  },
  {
   "cell_type": "code",
   "execution_count": 2,
   "id": "251acc92",
   "metadata": {},
   "outputs": [],
   "source": [
    "%quickref"
   ]
  },
  {
   "cell_type": "code",
   "execution_count": 4,
   "id": "027e92b7",
   "metadata": {},
   "outputs": [],
   "source": [
    "LS.sort?"
   ]
  },
  {
   "cell_type": "code",
   "execution_count": 5,
   "id": "43351c69",
   "metadata": {},
   "outputs": [
    {
     "name": "stdout",
     "output_type": "stream",
     "text": [
      "[0, 1, 2, 3, 4, 5, 6, 7, 8, 9]\n"
     ]
    }
   ],
   "source": [
    "LS.sort(reverse=False)\n",
    "print(LS)"
   ]
  },
  {
   "cell_type": "code",
   "execution_count": 6,
   "id": "81fd2fe4",
   "metadata": {},
   "outputs": [
    {
     "name": "stdout",
     "output_type": "stream",
     "text": [
      "[9, 8, 7, 6, 5, 4, 3, 2, 1, 0]\n"
     ]
    }
   ],
   "source": [
    "LS.sort(reverse=True)\n",
    "print(LS)"
   ]
  },
  {
   "cell_type": "markdown",
   "id": "19f9408e",
   "metadata": {},
   "source": [
    "# Using User defined Funtions with list"
   ]
  },
  {
   "cell_type": "code",
   "execution_count": 7,
   "id": "4ac001db",
   "metadata": {},
   "outputs": [],
   "source": [
    "#fucntion with parameter and without return\n",
    "def GetPercentage(N,Total,Maximum):\n",
    "    Avg=(Total/Maximum)*100\n",
    "    print(\"---------------------------\")\n",
    "    print(N,\"PCM Percentage is \", round(Avg,3))"
   ]
  },
  {
   "cell_type": "code",
   "execution_count": 8,
   "id": "400a50b1",
   "metadata": {},
   "outputs": [],
   "source": [
    "def GetDetails():\n",
    "    n=int(input(\"enter how many students...?\"))\n",
    "    for i in range(n):\n",
    "        maxi=300\n",
    "        Name=input(\"enter ur name\")\n",
    "        M1=int(input(\"enter marks of maths\"))\n",
    "        M2=int(input(\"enter marks of physics\"))\n",
    "        M3=int(input(\"enter marks of chemistry\"))\n",
    "        All=M1+M2+M3\n",
    "        GetPercentage(Name,All,maxi)\n",
    "        print(\"-------------------------\")"
   ]
  },
  {
   "cell_type": "code",
   "execution_count": 9,
   "id": "d175aac5",
   "metadata": {},
   "outputs": [
    {
     "name": "stdout",
     "output_type": "stream",
     "text": [
      "enter how many students...? 2\n",
      "enter ur name uma\n",
      "enter marks of maths 98\n",
      "enter marks of physics 98\n",
      "enter marks of chemistry 98\n",
      "---------------------------\n",
      " uma PCM Percentage is  98.0\n",
      "-------------------------\n",
      "enter ur name Paru\n",
      "enter marks of maths 90\n",
      "enter marks of physics 88\n",
      "enter marks of chemistry 86\n",
      "---------------------------\n",
      " Paru PCM Percentage is  88.0\n",
      "-------------------------\n"
     ]
    }
   ],
   "source": [
    "GetDetails()"
   ]
  },
  {
   "cell_type": "markdown",
   "id": "12e9e201",
   "metadata": {},
   "source": [
    "# 1. function with parameter and with return"
   ]
  },
  {
   "cell_type": "code",
   "execution_count": 10,
   "id": "1e21820d",
   "metadata": {},
   "outputs": [
    {
     "name": "stdout",
     "output_type": "stream",
     "text": [
      "enter a 100\n",
      "enter b 200\n"
     ]
    }
   ],
   "source": [
    "a=int(input(\"enter a \"))\n",
    "b=int(input(\"enter b \"))"
   ]
  },
  {
   "cell_type": "code",
   "execution_count": 11,
   "id": "b6ede53a",
   "metadata": {},
   "outputs": [],
   "source": [
    "def Addition(x,y):\n",
    "    z=x+y\n",
    "    return z\n",
    "#actual parameter-we send the value\n",
    "#formal parameter-actual is copied"
   ]
  },
  {
   "cell_type": "code",
   "execution_count": 12,
   "id": "5b2f9ccb",
   "metadata": {},
   "outputs": [
    {
     "name": "stdout",
     "output_type": "stream",
     "text": [
      "sum of 100+200=300\n"
     ]
    }
   ],
   "source": [
    "R=Addition(a,b)\n",
    "print(\"sum of {0}+{1}={2}\".format(a,b,R))"
   ]
  },
  {
   "cell_type": "markdown",
   "id": "4bc08919",
   "metadata": {},
   "source": [
    "# 2.Function with parameter and without return"
   ]
  },
  {
   "cell_type": "code",
   "execution_count": 1,
   "id": "dcd5a82b",
   "metadata": {
    "scrolled": true
   },
   "outputs": [
    {
     "name": "stdout",
     "output_type": "stream",
     "text": [
      "enter a 2\n",
      "enter b 4\n"
     ]
    }
   ],
   "source": [
    "a=int(input(\"enter a \"))\n",
    "b=int(input(\"enter b \"))"
   ]
  },
  {
   "cell_type": "code",
   "execution_count": 2,
   "id": "620c10d0",
   "metadata": {},
   "outputs": [],
   "source": [
    "def Addition(x,y):\n",
    "    z=x+y\n",
    "    print(\"sum of {0}+{1}={2}\".format(x,y,z))"
   ]
  },
  {
   "cell_type": "code",
   "execution_count": 3,
   "id": "66c4f6da",
   "metadata": {},
   "outputs": [
    {
     "name": "stdout",
     "output_type": "stream",
     "text": [
      "sum of 2+4=6\n"
     ]
    }
   ],
   "source": [
    "Addition(a,b)"
   ]
  },
  {
   "cell_type": "markdown",
   "id": "8f027db5",
   "metadata": {},
   "source": [
    "# 3. Function without parameter and with return"
   ]
  },
  {
   "cell_type": "code",
   "execution_count": 21,
   "id": "45367239",
   "metadata": {},
   "outputs": [],
   "source": [
    "def Addition():\n",
    "    a=int(input(\"enter a \"))\n",
    "    b=int(input(\"enter b\"))\n",
    "    c=a+b\n",
    "    return c"
   ]
  },
  {
   "cell_type": "code",
   "execution_count": 22,
   "id": "32ef0863",
   "metadata": {},
   "outputs": [
    {
     "name": "stdout",
     "output_type": "stream",
     "text": [
      "enter a 75\n",
      "enter b23\n",
      "Sum 98\n"
     ]
    }
   ],
   "source": [
    "Result=Addition()\n",
    "print(\"Sum\", Result) "
   ]
  },
  {
   "cell_type": "markdown",
   "id": "aee62305",
   "metadata": {},
   "source": [
    "# 4. function without parameter and without return"
   ]
  },
  {
   "cell_type": "code",
   "execution_count": 23,
   "id": "bb7e2181",
   "metadata": {},
   "outputs": [],
   "source": [
    "def Addition():\n",
    "    a=int(input(\"enter a \"))\n",
    "    b=int(input(\"enter b\"))\n",
    "    c=a+b\n",
    "    return c"
   ]
  },
  {
   "cell_type": "code",
   "execution_count": 24,
   "id": "1cebc796",
   "metadata": {},
   "outputs": [
    {
     "name": "stdout",
     "output_type": "stream",
     "text": [
      "enter a 56\n",
      "enter b2\n"
     ]
    },
    {
     "data": {
      "text/plain": [
       "58"
      ]
     },
     "execution_count": 24,
     "metadata": {},
     "output_type": "execute_result"
    }
   ],
   "source": [
    "Addition()"
   ]
  },
  {
   "cell_type": "code",
   "execution_count": 44,
   "id": "f2bd914a",
   "metadata": {
    "scrolled": true
   },
   "outputs": [
    {
     "name": "stdout",
     "output_type": "stream",
     "text": [
      "enter a number 5\n"
     ]
    }
   ],
   "source": [
    "n=int(input(\"enter a number\"))"
   ]
  },
  {
   "cell_type": "code",
   "execution_count": 39,
   "id": "42bb27ba",
   "metadata": {},
   "outputs": [],
   "source": [
    "def table1(n):\n",
    "    for i in range(1,11):\n",
    "        print(n,\"x\",i,\"=\",n*i)\n",
    "    print(\"\\n--------------\\n\")"
   ]
  },
  {
   "cell_type": "code",
   "execution_count": 45,
   "id": "82ea12c3",
   "metadata": {},
   "outputs": [
    {
     "name": "stdout",
     "output_type": "stream",
     "text": [
      "5 x 1 = 5\n",
      "5 x 2 = 10\n",
      "5 x 3 = 15\n",
      "5 x 4 = 20\n",
      "5 x 5 = 25\n",
      "5 x 6 = 30\n",
      "5 x 7 = 35\n",
      "5 x 8 = 40\n",
      "5 x 9 = 45\n",
      "5 x 10 = 50\n",
      "\n",
      "--------------\n",
      "\n"
     ]
    }
   ],
   "source": [
    "table1(n)"
   ]
  },
  {
   "cell_type": "code",
   "execution_count": 46,
   "id": "c620bb5a",
   "metadata": {},
   "outputs": [
    {
     "name": "stdout",
     "output_type": "stream",
     "text": [
      "enter[C/I/D]C\n",
      "enter units consumed  7300\n"
     ]
    }
   ],
   "source": [
    "#commercial industriak domestic qtn\n",
    "Cat=input(\"enter[C/I/D]\")\n",
    "u=int(input(\"enter units consumed \"))"
   ]
  },
  {
   "cell_type": "code",
   "execution_count": 48,
   "id": "16d1555e",
   "metadata": {},
   "outputs": [
    {
     "name": "stdout",
     "output_type": "stream",
     "text": [
      "bill amount= 2075.0\n"
     ]
    }
   ],
   "source": [
    "min=1500\n",
    "if ((Cat==\"c\") or (Cat==\"C\")):\n",
    "    if(u<=5000):\n",
    "        BA=min\n",
    "        print(\"bill amount=\",BA)\n",
    "    elif(u>=5001 and u<=10000):\n",
    "        BA=min+(u-5000)*0.25\n",
    "        print(\"bill amount=\",BA)\n",
    "    elif(u>=10001 and u<=20000):\n",
    "        BA=min+(u-5000)*0.25+(u-10000)*0.23\n",
    "        print(\"bill amount=\",BA)\n",
    "    elif(u>20000):\n",
    "        BA=min+(u-5000)*0.25+(u-10000)*0.23+(u-20000)*0.20\n",
    "        print(\"bill amount=\",BA)      "
   ]
  },
  {
   "cell_type": "code",
   "execution_count": 49,
   "id": "227932c3",
   "metadata": {},
   "outputs": [
    {
     "name": "stdout",
     "output_type": "stream",
     "text": [
      "enter[C/I/D]c\n",
      "enter units consumed 12500\n"
     ]
    }
   ],
   "source": [
    "Cat=input(\"enter[C/I/D]\")\n",
    "u=int(input(\"enter units consumed \"))"
   ]
  },
  {
   "cell_type": "code",
   "execution_count": 50,
   "id": "b1de1b6a",
   "metadata": {},
   "outputs": [
    {
     "name": "stdout",
     "output_type": "stream",
     "text": [
      "bill amount= 3950.0\n"
     ]
    }
   ],
   "source": [
    "min=1500\n",
    "if ((Cat==\"c\") or (Cat==\"C\")):\n",
    "    if(u<=5000):\n",
    "        BA=min\n",
    "        print(\"bill amount=\",BA)\n",
    "    elif(u>=5001 and u<=10000):\n",
    "        BA=min+(u-5000)*0.25\n",
    "        print(\"bill amount=\",BA)\n",
    "    elif(u>=10001 and u<=20000):\n",
    "        BA=min+(u-5000)*0.25+(u-10000)*0.23\n",
    "        print(\"bill amount=\",BA)\n",
    "    elif(u>20000):\n",
    "        BA=min+(u-5000)*0.25+(u-10000)*0.23+(u-20000)*0.20\n",
    "        print(\"bill amount=\",BA) "
   ]
  },
  {
   "cell_type": "code",
   "execution_count": 1,
   "id": "bb3cf6ea",
   "metadata": {},
   "outputs": [
    {
     "name": "stdout",
     "output_type": "stream",
     "text": [
      "enter[C/I/D]c\n",
      "enter units consumed 18000\n"
     ]
    }
   ],
   "source": [
    "Cat=input(\"enter[C/I/D]\")\n",
    "u=int(input(\"enter units consumed \"))"
   ]
  },
  {
   "cell_type": "code",
   "execution_count": 2,
   "id": "dc16ad0e",
   "metadata": {},
   "outputs": [
    {
     "name": "stdout",
     "output_type": "stream",
     "text": [
      "bill amount= 6590.0\n"
     ]
    }
   ],
   "source": [
    "min=1500\n",
    "if ((Cat==\"c\") or (Cat==\"C\")):\n",
    "    if(u<=5000):\n",
    "        BA=min\n",
    "        print(\"bill amount=\",BA)\n",
    "    elif(u>=5001 and u<=10000):\n",
    "        BA=min+(u-5000)*0.25\n",
    "        print(\"bill amount=\",BA)\n",
    "    elif(u>=10001 and u<=20000):\n",
    "        BA=min+(u-5000)*0.25+(u-10000)*0.23\n",
    "        print(\"bill amount=\",BA)\n",
    "    elif(u>20000):\n",
    "        BA=min+(u-5000)*0.25+(u-10000)*0.23+(u-20000)*0.20\n",
    "        print(\"bill amount=\",BA) "
   ]
  },
  {
   "cell_type": "code",
   "execution_count": 1,
   "id": "0987d0a2",
   "metadata": {},
   "outputs": [
    {
     "name": "stdout",
     "output_type": "stream",
     "text": [
      "enter[C/I/D]c\n",
      "enter units consumed 38000\n"
     ]
    }
   ],
   "source": [
    "Cat=input(\"enter[C/I/D]\")\n",
    "u=int(input(\"enter units consumed \"))"
   ]
  },
  {
   "cell_type": "code",
   "execution_count": 2,
   "id": "6562c51a",
   "metadata": {},
   "outputs": [
    {
     "name": "stdout",
     "output_type": "stream",
     "text": [
      "bill amount= 19790.0\n"
     ]
    }
   ],
   "source": [
    "min=1500\n",
    "if ((Cat==\"c\") or (Cat==\"C\")):\n",
    "    if(u<=5000):\n",
    "        BA=min\n",
    "        print(\"bill amount=\",BA)\n",
    "    elif(u>=5001 and u<=10000):\n",
    "        BA=min+(u-5000)*0.25\n",
    "        print(\"bill amount=\",BA)\n",
    "    elif(u>=10001 and u<=20000):\n",
    "        BA=min+(u-5000)*0.25+(u-10000)*0.23\n",
    "        print(\"bill amount=\",BA)\n",
    "    elif(u>20000):\n",
    "        BA=min+(u-5000)*0.25+(u-10000)*0.23+(u-20000)*0.20\n",
    "        print(\"bill amount=\",BA) "
   ]
  },
  {
   "cell_type": "code",
   "execution_count": 5,
   "id": "1401b24c",
   "metadata": {},
   "outputs": [
    {
     "name": "stdout",
     "output_type": "stream",
     "text": [
      "enter[C/I/D]I\n",
      "enter units consumed 17000\n"
     ]
    }
   ],
   "source": [
    "Cat=input(\"enter[C/I/D]\")\n",
    "u=int(input(\"enter units consumed \"))"
   ]
  },
  {
   "cell_type": "code",
   "execution_count": 7,
   "id": "2a81acfc",
   "metadata": {},
   "outputs": [
    {
     "name": "stdout",
     "output_type": "stream",
     "text": [
      "bill amount= 6110.0\n"
     ]
    }
   ],
   "source": [
    "min=1500\n",
    "if ((Cat==\"i\") or (Cat==\"I\")):\n",
    "    if(u<=5000):\n",
    "        BA=min\n",
    "        print(\"bill amount=\",BA)\n",
    "    elif(u>=5001 and u<=10000):\n",
    "        BA=min+(u-5000)*0.25\n",
    "        print(\"bill amount=\",BA)\n",
    "    elif(u>=10001 and u<=20000):\n",
    "        BA=min+(u-5000)*0.25+(u-10000)*0.23\n",
    "        print(\"bill amount=\",BA)\n",
    "    elif(u>20000):\n",
    "        BA=min+(u-5000)*0.25+(u-10000)*0.23+(u-20000)*0.20\n",
    "        print(\"bill amount=\",BA) "
   ]
  },
  {
   "cell_type": "code",
   "execution_count": null,
   "id": "cb118be0",
   "metadata": {},
   "outputs": [],
   "source": []
  }
 ],
 "metadata": {
  "kernelspec": {
   "display_name": "Python 3 (ipykernel)",
   "language": "python",
   "name": "python3"
  },
  "language_info": {
   "codemirror_mode": {
    "name": "ipython",
    "version": 3
   },
   "file_extension": ".py",
   "mimetype": "text/x-python",
   "name": "python",
   "nbconvert_exporter": "python",
   "pygments_lexer": "ipython3",
   "version": "3.9.12"
  }
 },
 "nbformat": 4,
 "nbformat_minor": 5
}
