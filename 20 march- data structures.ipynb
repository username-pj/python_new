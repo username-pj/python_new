{
 "cells": [
  {
   "cell_type": "markdown",
   "id": "7d941c42",
   "metadata": {},
   "source": [
    "# 20 march\n",
    "### data structures in Python\n"
   ]
  },
  {
   "cell_type": "code",
   "execution_count": 2,
   "id": "0742e1d9",
   "metadata": {},
   "outputs": [
    {
     "name": "stdout",
     "output_type": "stream",
     "text": [
      "[]\n"
     ]
    }
   ],
   "source": [
    "#list[]\n",
    "numbers=[]\n",
    "print(numbers)#output:[]"
   ]
  },
  {
   "cell_type": "code",
   "execution_count": 3,
   "id": "7ceeb9b0",
   "metadata": {},
   "outputs": [
    {
     "name": "stdout",
     "output_type": "stream",
     "text": [
      "[]\n"
     ]
    }
   ],
   "source": [
    "#create an empty list\n",
    "numbers=list()\n",
    "print(numbers)"
   ]
  },
  {
   "cell_type": "code",
   "execution_count": 4,
   "id": "0c3b1038",
   "metadata": {},
   "outputs": [
    {
     "name": "stdout",
     "output_type": "stream",
     "text": [
      "[1, 2, 3]\n"
     ]
    }
   ],
   "source": [
    "#create a list of numbers\n",
    "numbers=[1,2,3]\n",
    "print(numbers)"
   ]
  },
  {
   "cell_type": "code",
   "execution_count": 5,
   "id": "e9b1bd46",
   "metadata": {},
   "outputs": [
    {
     "name": "stdout",
     "output_type": "stream",
     "text": [
      "[1, 2, 3]\n"
     ]
    }
   ],
   "source": [
    "numbers=list(range(1,4))\n",
    "print(numbers)"
   ]
  },
  {
   "cell_type": "code",
   "execution_count": 9,
   "id": "519309f9",
   "metadata": {},
   "outputs": [
    {
     "name": "stdout",
     "output_type": "stream",
     "text": [
      "[[1, 2], [2, 4], [3, 6]]\n"
     ]
    }
   ],
   "source": [
    "#create a list of lists\n",
    "list_of_lists=[[1,2],[2,4],[3,6]]\n",
    "print(list_of_lists)"
   ]
  },
  {
   "cell_type": "code",
   "execution_count": 10,
   "id": "e990d5e5",
   "metadata": {},
   "outputs": [
    {
     "name": "stdout",
     "output_type": "stream",
     "text": [
      "[1, 'hey', [1, 2], 9.78, 'f']\n"
     ]
    }
   ],
   "source": [
    "random_list=[1,\"hey\",[1,2],9.78,'f']\n",
    "print(random_list)"
   ]
  },
  {
   "cell_type": "code",
   "execution_count": 11,
   "id": "070c4484",
   "metadata": {},
   "outputs": [
    {
     "name": "stdout",
     "output_type": "stream",
     "text": [
      "3\n"
     ]
    }
   ],
   "source": [
    "numbers=[5,8,8]\n",
    "print(len(numbers))"
   ]
  },
  {
   "cell_type": "code",
   "execution_count": 12,
   "id": "7db40caf",
   "metadata": {},
   "outputs": [
    {
     "name": "stdout",
     "output_type": "stream",
     "text": [
      "hey\n",
      "you?\n",
      "you?\n"
     ]
    }
   ],
   "source": [
    "str_list=[\"hey\",\"there!\",\"how\",\"are\",\"you?\"]\n",
    "print(str_list[0])\n",
    "print(str_list[len(str_list)-1])\n",
    "print(str_list[-1])"
   ]
  },
  {
   "cell_type": "code",
   "execution_count": 13,
   "id": "bec13c46",
   "metadata": {},
   "outputs": [
    {
     "name": "stdout",
     "output_type": "stream",
     "text": [
      "[1, 2]\n",
      "[1, 2, 3]\n"
     ]
    }
   ],
   "source": [
    "numbers=[1,2]\n",
    "print(numbers)\n",
    "numbers.append(3)\n",
    "print(numbers)"
   ]
  },
  {
   "cell_type": "code",
   "execution_count": 16,
   "id": "7f79c2b4",
   "metadata": {},
   "outputs": [
    {
     "name": "stdout",
     "output_type": "stream",
     "text": [
      "[1, 2, 'hey', 'there!']\n"
     ]
    }
   ],
   "source": [
    "numbers=[1,2]\n",
    "string=[\"hey\",\"there!\"]\n",
    "print(numbers+string)"
   ]
  },
  {
   "cell_type": "code",
   "execution_count": 17,
   "id": "d3d387b3",
   "metadata": {},
   "outputs": [
    {
     "name": "stdout",
     "output_type": "stream",
     "text": [
      "[100, 2, 3]\n"
     ]
    }
   ],
   "source": [
    "numbers=[1,2,3]\n",
    "numbers[0]=100\n",
    "print(numbers)"
   ]
  },
  {
   "cell_type": "code",
   "execution_count": 18,
   "id": "3f2d668d",
   "metadata": {},
   "outputs": [
    {
     "name": "stdout",
     "output_type": "stream",
     "text": [
      "[300, 400, 3]\n"
     ]
    }
   ],
   "source": [
    "numbers[0:2]=[300,400]\n",
    "print(numbers)"
   ]
  },
  {
   "cell_type": "code",
   "execution_count": 19,
   "id": "8619ed38",
   "metadata": {},
   "outputs": [
    {
     "name": "stdout",
     "output_type": "stream",
     "text": [
      "[300]\n"
     ]
    }
   ],
   "source": [
    "numbers[1:3]=[]\n",
    "print(numbers)"
   ]
  },
  {
   "cell_type": "code",
   "execution_count": 20,
   "id": "5955f793",
   "metadata": {},
   "outputs": [
    {
     "name": "stdout",
     "output_type": "stream",
     "text": [
      "[]\n"
     ]
    }
   ],
   "source": [
    "numbers[:]=[]\n",
    "print(numbers)"
   ]
  },
  {
   "cell_type": "code",
   "execution_count": 21,
   "id": "7f2c37e9",
   "metadata": {},
   "outputs": [
    {
     "name": "stdout",
     "output_type": "stream",
     "text": [
      "['how', 'are', 'you?']\n"
     ]
    }
   ],
   "source": [
    "greeting=[\"how\",\"you?\"]\n",
    "greeting.insert(1,\"are\")\n",
    "print(greeting)\n"
   ]
  },
  {
   "cell_type": "code",
   "execution_count": 22,
   "id": "b97cd98d",
   "metadata": {},
   "outputs": [
    {
     "name": "stdout",
     "output_type": "stream",
     "text": [
      "['how', 'are', 'you?']\n",
      "['hey', 'there!']\n",
      "['how', 'are', 'you?']\n",
      "['hey', 'there!']\n",
      "['there!', 'how', 'are']\n",
      "['hey', 'there!', 'how', 'are', 'you?']\n"
     ]
    }
   ],
   "source": [
    "str_list=[\"hey\",\"there!\",\"how\",\"are\",\"you?\"]\n",
    "print(str_list[2:])\n",
    "print(str_list[:2])\n",
    "print(str_list[-3:])\n",
    "print(str_list[:-3])\n",
    "print(str_list[1:4])\n",
    "print(str_list[:])"
   ]
  },
  {
   "cell_type": "code",
   "execution_count": 23,
   "id": "8f34e31f",
   "metadata": {},
   "outputs": [
    {
     "name": "stdout",
     "output_type": "stream",
     "text": [
      "[1, 2, 3, 4, 5, 6, 7, 8]\n"
     ]
    }
   ],
   "source": [
    "li=[1,2,3,4,5]\n",
    "li.extend([6,7,8])\n",
    "print(li)"
   ]
  },
  {
   "cell_type": "code",
   "execution_count": 24,
   "id": "525f3fe7",
   "metadata": {},
   "outputs": [
    {
     "name": "stdout",
     "output_type": "stream",
     "text": [
      "[2, 3, 4, 5]\n"
     ]
    }
   ],
   "source": [
    "li=[1,2,3,4,5]\n",
    "li.remove(1)\n",
    "print(li)"
   ]
  },
  {
   "cell_type": "code",
   "execution_count": 25,
   "id": "5147614e",
   "metadata": {},
   "outputs": [
    {
     "name": "stdout",
     "output_type": "stream",
     "text": [
      "[5, 4, 3, 2, 1]\n"
     ]
    }
   ],
   "source": [
    "li=[1,2,3,4,5]\n",
    "li.reverse()\n",
    "print(li)"
   ]
  },
  {
   "cell_type": "code",
   "execution_count": 27,
   "id": "d26273aa",
   "metadata": {},
   "outputs": [
    {
     "name": "stdout",
     "output_type": "stream",
     "text": [
      "<list_reverseiterator object at 0x0000028AE4382940>\n",
      "[5, 4, 3, 2, 1]\n"
     ]
    }
   ],
   "source": [
    "print(reversed(li))\n",
    "print(li)"
   ]
  },
  {
   "cell_type": "code",
   "execution_count": 29,
   "id": "7b42e883",
   "metadata": {},
   "outputs": [
    {
     "name": "stdout",
     "output_type": "stream",
     "text": [
      "[1, 2, 3, 4, 5]\n"
     ]
    }
   ],
   "source": [
    "li=[3,1,4,2,5]\n",
    "li.sort()\n",
    "print(li)"
   ]
  },
  {
   "cell_type": "code",
   "execution_count": 32,
   "id": "fd8ae106",
   "metadata": {},
   "outputs": [
    {
     "name": "stdout",
     "output_type": "stream",
     "text": [
      "[5, 4, 3, 2, 1]\n"
     ]
    }
   ],
   "source": [
    "li=[3,1,4,2,5]\n",
    "li.sort(reverse=True)\n",
    "print(li)"
   ]
  },
  {
   "cell_type": "code",
   "execution_count": 33,
   "id": "dfd931f1",
   "metadata": {},
   "outputs": [
    {
     "name": "stdout",
     "output_type": "stream",
     "text": [
      "[1, 2, 3, 4, 5]\n",
      "[3, 1, 4, 2, 5]\n"
     ]
    }
   ],
   "source": [
    "li=[3,1,4,2,5]\n",
    "\n",
    "print(sorted(li))\n",
    "print(li)"
   ]
  },
  {
   "cell_type": "code",
   "execution_count": 34,
   "id": "a54bcec8",
   "metadata": {},
   "outputs": [
    {
     "name": "stdout",
     "output_type": "stream",
     "text": [
      "<class 'list'>\n"
     ]
    }
   ],
   "source": [
    "print(type(li))"
   ]
  },
  {
   "cell_type": "code",
   "execution_count": 35,
   "id": "f05a1377",
   "metadata": {},
   "outputs": [
    {
     "name": "stdout",
     "output_type": "stream",
     "text": [
      "length of a list= 5\n",
      "maximum of a list= 5\n",
      "minimum of a list= 1\n",
      "sum of a list= 15\n"
     ]
    }
   ],
   "source": [
    "print(\"length of a list=\",len(li))\n",
    "print(\"maximum of a list=\", max(li))\n",
    "print(\"minimum of a list=\",min(li))\n",
    "print(\"sum of a list=\",sum(li))"
   ]
  },
  {
   "cell_type": "code",
   "execution_count": 36,
   "id": "5ed6785d",
   "metadata": {},
   "outputs": [
    {
     "data": {
      "text/plain": [
       "[6, 7]"
      ]
     },
     "execution_count": 36,
     "metadata": {},
     "output_type": "execute_result"
    }
   ],
   "source": [
    "#example 1\n",
    "import numpy as np\n",
    "a=[4,6,7,3,1]\n",
    "b=[x for x in a if x>5]\n",
    "b"
   ]
  },
  {
   "cell_type": "code",
   "execution_count": 38,
   "id": "0a7ceea5",
   "metadata": {},
   "outputs": [
    {
     "data": {
      "text/plain": [
       "[12, 14]"
      ]
     },
     "execution_count": 38,
     "metadata": {},
     "output_type": "execute_result"
    }
   ],
   "source": [
    "#example 2\n",
    "import numpy as np\n",
    "a=[4,6,7,3,2]\n",
    "b=[x*2 for x in a if x>5]\n",
    "b"
   ]
  },
  {
   "cell_type": "code",
   "execution_count": null,
   "id": "352700b4",
   "metadata": {},
   "outputs": [],
   "source": [
    "#example 3\n",
    "names=['Ch','Dh','Eh','cb','tb','Td']\n",
    "new_names="
   ]
  },
  {
   "cell_type": "code",
   "execution_count": null,
   "id": "8abdf6ee",
   "metadata": {},
   "outputs": [],
   "source": []
  },
  {
   "cell_type": "markdown",
   "id": "cd7c6fe7",
   "metadata": {},
   "source": [
    "## Dictionary{}\n",
    "\n",
    "### dictionaries"
   ]
  },
  {
   "cell_type": "markdown",
   "id": "3fd3de81",
   "metadata": {},
   "source": [
    "##### a dictionary is a list of associations composed by a unique key and corresponding structures.\n",
    "#### dictionaries are  mutable like lists"
   ]
  },
  {
   "cell_type": "code",
   "execution_count": 39,
   "id": "466badc5",
   "metadata": {},
   "outputs": [],
   "source": [
    "D ={}"
   ]
  },
  {
   "cell_type": "code",
   "execution_count": 42,
   "id": "a808cda7",
   "metadata": {},
   "outputs": [
    {
     "data": {
      "text/plain": [
       "{}"
      ]
     },
     "execution_count": 42,
     "metadata": {},
     "output_type": "execute_result"
    }
   ],
   "source": [
    "D1=dict()#empty\n",
    "D1"
   ]
  },
  {
   "cell_type": "code",
   "execution_count": 43,
   "id": "c585fb83",
   "metadata": {},
   "outputs": [
    {
     "data": {
      "text/plain": [
       "{'Nmae': 'Teena'}"
      ]
     },
     "execution_count": 43,
     "metadata": {},
     "output_type": "execute_result"
    }
   ],
   "source": [
    "D={\"Nmae\":\"Teena\"}\n",
    "D"
   ]
  },
  {
   "cell_type": "code",
   "execution_count": 44,
   "id": "662b10b3",
   "metadata": {},
   "outputs": [
    {
     "data": {
      "text/plain": [
       "{'Age': [12, 34, 56, 87, 90]}"
      ]
     },
     "execution_count": 44,
     "metadata": {},
     "output_type": "execute_result"
    }
   ],
   "source": [
    "D2={\"Age\":[12,34,56,87,90]}\n",
    "D2"
   ]
  },
  {
   "cell_type": "code",
   "execution_count": 50,
   "id": "e105b411",
   "metadata": {},
   "outputs": [
    {
     "data": {
      "text/plain": [
       "{'Marks': [12, 23, 35, 45],\n",
       " 'Age': [12, 34, 56, 87],\n",
       " 'Salary': [232, 454, 6767, 78787]}"
      ]
     },
     "execution_count": 50,
     "metadata": {},
     "output_type": "execute_result"
    }
   ],
   "source": [
    "D2={\"Marks\":[12,23,35,45],\n",
    "   \"Age\":[12,34,56,87],\n",
    "   \"Salary\":[232,454,6767,78787]}\n",
    "D2"
   ]
  },
  {
   "cell_type": "code",
   "execution_count": 51,
   "id": "e599adb1",
   "metadata": {},
   "outputs": [
    {
     "data": {
      "text/html": [
       "<div>\n",
       "<style scoped>\n",
       "    .dataframe tbody tr th:only-of-type {\n",
       "        vertical-align: middle;\n",
       "    }\n",
       "\n",
       "    .dataframe tbody tr th {\n",
       "        vertical-align: top;\n",
       "    }\n",
       "\n",
       "    .dataframe thead th {\n",
       "        text-align: right;\n",
       "    }\n",
       "</style>\n",
       "<table border=\"1\" class=\"dataframe\">\n",
       "  <thead>\n",
       "    <tr style=\"text-align: right;\">\n",
       "      <th></th>\n",
       "      <th>Marks</th>\n",
       "      <th>Age</th>\n",
       "      <th>Salary</th>\n",
       "    </tr>\n",
       "  </thead>\n",
       "  <tbody>\n",
       "    <tr>\n",
       "      <th>0</th>\n",
       "      <td>12</td>\n",
       "      <td>12</td>\n",
       "      <td>232</td>\n",
       "    </tr>\n",
       "    <tr>\n",
       "      <th>1</th>\n",
       "      <td>23</td>\n",
       "      <td>34</td>\n",
       "      <td>454</td>\n",
       "    </tr>\n",
       "    <tr>\n",
       "      <th>2</th>\n",
       "      <td>35</td>\n",
       "      <td>56</td>\n",
       "      <td>6767</td>\n",
       "    </tr>\n",
       "    <tr>\n",
       "      <th>3</th>\n",
       "      <td>45</td>\n",
       "      <td>87</td>\n",
       "      <td>78787</td>\n",
       "    </tr>\n",
       "  </tbody>\n",
       "</table>\n",
       "</div>"
      ],
      "text/plain": [
       "   Marks  Age  Salary\n",
       "0     12   12     232\n",
       "1     23   34     454\n",
       "2     35   56    6767\n",
       "3     45   87   78787"
      ]
     },
     "execution_count": 51,
     "metadata": {},
     "output_type": "execute_result"
    }
   ],
   "source": [
    "import pandas as pd\n",
    "df=pd.DataFrame(D2)\n",
    "df"
   ]
  },
  {
   "cell_type": "code",
   "execution_count": 52,
   "id": "124609ad",
   "metadata": {},
   "outputs": [
    {
     "name": "stdout",
     "output_type": "stream",
     "text": [
      "2024-03-20 14:42:09.499086\n"
     ]
    }
   ],
   "source": [
    "#example1:get current date and time\n",
    "import datetime\n",
    "datetime_object=datetime.datetime.now()\n",
    "print(datetime_object)"
   ]
  },
  {
   "cell_type": "code",
   "execution_count": 54,
   "id": "df053f3d",
   "metadata": {},
   "outputs": [
    {
     "name": "stdout",
     "output_type": "stream",
     "text": [
      "2024-03-20 14:42:34.643919\n"
     ]
    }
   ],
   "source": [
    "#can also be written as dt\n",
    "import datetime as dt\n",
    "datetime_object=dt.datetime.now()\n",
    "print(datetime_object)"
   ]
  },
  {
   "cell_type": "code",
   "execution_count": 55,
   "id": "4d6d6a0c",
   "metadata": {},
   "outputs": [
    {
     "name": "stdout",
     "output_type": "stream",
     "text": [
      "2024-03-20\n"
     ]
    }
   ],
   "source": [
    "#Example2\n",
    "import datetime\n",
    "date_object=datetime.date.today()\n",
    "print(date_object)"
   ]
  },
  {
   "cell_type": "markdown",
   "id": "1d573f3b",
   "metadata": {},
   "source": [
    "## Whats inside datetime\n",
    "### we can use dir() functionto get  list containing all attrobutes of a module"
   ]
  },
  {
   "cell_type": "code",
   "execution_count": 56,
   "id": "4c947836",
   "metadata": {},
   "outputs": [
    {
     "name": "stdout",
     "output_type": "stream",
     "text": [
      "['MAXYEAR', 'MINYEAR', '__all__', '__builtins__', '__cached__', '__doc__', '__file__', '__loader__', '__name__', '__package__', '__spec__', 'date', 'datetime', 'datetime_CAPI', 'sys', 'time', 'timedelta', 'timezone', 'tzinfo']\n"
     ]
    }
   ],
   "source": [
    "print(dir(datetime))"
   ]
  },
  {
   "cell_type": "code",
   "execution_count": null,
   "id": "4e2a0428",
   "metadata": {},
   "outputs": [],
   "source": [
    "#commonly used classes in the datetime module are\n",
    "#date class\n",
    "#time clas\n",
    "\n",
    "#datetime class\n",
    "#timdelta class\n",
    "#datetime.data class\n"
   ]
  },
  {
   "cell_type": "code",
   "execution_count": 58,
   "id": "ace3418f",
   "metadata": {},
   "outputs": [
    {
     "name": "stdout",
     "output_type": "stream",
     "text": [
      "2019-04-13\n"
     ]
    }
   ],
   "source": [
    "#example 3:date object to rep a date\n",
    "import datetime\n",
    "d=datetime.date(2019,4,13)\n",
    "print(d)"
   ]
  },
  {
   "cell_type": "code",
   "execution_count": 61,
   "id": "75206a57",
   "metadata": {},
   "outputs": [
    {
     "name": "stdout",
     "output_type": "stream",
     "text": [
      "2019-04-13\n"
     ]
    }
   ],
   "source": [
    "from datetime  import date\n",
    "a=date(2019,4,13)\n",
    "print(a)"
   ]
  },
  {
   "cell_type": "code",
   "execution_count": 62,
   "id": "7b9029c7",
   "metadata": {},
   "outputs": [
    {
     "name": "stdout",
     "output_type": "stream",
     "text": [
      "current date= 2024-03-20\n"
     ]
    }
   ],
   "source": [
    "#example 4: get current adte\n",
    "from datetime import date\n",
    "today=date.today()\n",
    "print(\"current date=\",today)"
   ]
  },
  {
   "cell_type": "code",
   "execution_count": 63,
   "id": "4f2f4b8a",
   "metadata": {},
   "outputs": [
    {
     "name": "stdout",
     "output_type": "stream",
     "text": [
      "date= 2012-01-11\n"
     ]
    }
   ],
   "source": [
    "#example 5: get date from a timestamp\n",
    "from datetime import date\n",
    "timestamp=date.fromtimestamp(1326244364)\n",
    "print(\"date=\",timestamp)"
   ]
  },
  {
   "cell_type": "code",
   "execution_count": 64,
   "id": "8ea04037",
   "metadata": {},
   "outputs": [
    {
     "name": "stdout",
     "output_type": "stream",
     "text": [
      "current year: 2024\n",
      "current month: 3\n",
      "current day: 20\n"
     ]
    }
   ],
   "source": [
    "#example 6:print today's year , month and day\n",
    "from datetime import date\n",
    "#date object of todays date\n",
    "today=date.today()\n",
    "\n",
    "print(\"current year:\",today.year)\n",
    "print(\"current month:\",today.month)\n",
    "print(\"current day:\",today.day)"
   ]
  },
  {
   "cell_type": "code",
   "execution_count": 67,
   "id": "5e624ac2",
   "metadata": {},
   "outputs": [
    {
     "name": "stdout",
     "output_type": "stream",
     "text": [
      "a= 00:00:00\n",
      "b= 11:34:56\n",
      "c= 11:34:56\n",
      "d= 11:34:56.234566\n"
     ]
    }
   ],
   "source": [
    "#example 7: time object to rep time\n",
    "from datetime import time\n",
    "#time(hour=0,minute=0,second=0)\n",
    "a=time()\n",
    "print(\"a=\",a)\n",
    "\n",
    "#time(hour,minute, second)\n",
    "b=time(11,34,56)\n",
    "print(\"b=\",b)\n",
    "\n",
    "#time(hr,min,sec)\n",
    "c=time(hour=11,minute=34,second=56)\n",
    "print(\"c=\",c)\n",
    "\n",
    "#time (h,m,sec,microsec)\n",
    "d=time(11,34,56,234566)\n",
    "print(\"d=\",d)"
   ]
  },
  {
   "cell_type": "code",
   "execution_count": 68,
   "id": "22b4177f",
   "metadata": {},
   "outputs": [
    {
     "name": "stdout",
     "output_type": "stream",
     "text": [
      "hour= 11\n",
      "minute= 34\n",
      "second= 56\n",
      "microsec= 0\n"
     ]
    }
   ],
   "source": [
    "#exaple 8: print hr,min,sec and micsec\n",
    "from datetime import time\n",
    "a=time(11,34,56)\n",
    "print(\"hour=\",a.hour)\n",
    "print(\"minute=\",a.minute)\n",
    "print(\"second=\",a.second)\n",
    "print(\"microsec=\",a.microsecond)"
   ]
  },
  {
   "cell_type": "code",
   "execution_count": 71,
   "id": "371c26b3",
   "metadata": {},
   "outputs": [
    {
     "name": "stdout",
     "output_type": "stream",
     "text": [
      "date time object:  2018-06-12 15:25:22\n",
      "output Tue,12,2018,15:25:22\n",
      "output3: 12,Jun,2018\n",
      "outpu4: 12,June,2018\n",
      "output 5 03PM\n"
     ]
    }
   ],
   "source": [
    "#strftime()\n",
    "\n",
    "from datetime import datetime\n",
    "timestamp=1528797322\n",
    "date_time=datetime.fromtimestamp(timestamp)\n",
    "\n",
    "print(\"date time object: \",date_time)\n",
    "\n",
    "d=date_time.strftime(\"%a,%d,%Y,%H:%M:%S\")\n",
    "print(\"output\",d)\n",
    "                     \n",
    "                     \n",
    "d=date_time.strftime(\"%d,%b,%Y\")\n",
    "print(\"output3:\", d)\n",
    "\n",
    "d=date_time.strftime(\"%d,%B,%Y\")\n",
    "print(\"outpu4:\",d)\n",
    "                     \n",
    "d=date_time.strftime(\"%I%p\")\n",
    "print(\"output 5\", d)"
   ]
  },
  {
   "cell_type": "code",
   "execution_count": 76,
   "id": "c0cae24a",
   "metadata": {},
   "outputs": [
    {
     "name": "stdout",
     "output_type": "stream",
     "text": [
      "time left for new year: 27 days, 0:00:00\n",
      "time left for new year 26 days, 23:01:00\n"
     ]
    }
   ],
   "source": [
    "#example 5: difference between two points in time using\n",
    "\n",
    "from datetime import date\n",
    "\n",
    "today=date(year=2019,month=12,day=5)\n",
    "new_year=date(year=2020,month=1, day=1)\n",
    "time_left_for_new_year=new_year-today\n",
    "\n",
    "print(\"time left for new year:\", time_left_for_new_year)\n",
    "\n",
    "t1=datetime(year=2019,month=12,day=5,hour=0, minute=59, second=0)\n",
    "t2=datetime(year=2020,month=1,day=1,hour=0, minute=0, second=0)\n",
    "\n",
    "diff=t2-t1\n",
    "\n",
    "print(\"time left for new year\", diff)"
   ]
  },
  {
   "cell_type": "code",
   "execution_count": 77,
   "id": "968fbc9d",
   "metadata": {},
   "outputs": [
    {
     "name": "stdout",
     "output_type": "stream",
     "text": [
      "enter date:14/08/2023\n"
     ]
    },
    {
     "data": {
      "text/plain": [
       "datetime.datetime(2023, 8, 14, 0, 0)"
      ]
     },
     "execution_count": 77,
     "metadata": {},
     "output_type": "execute_result"
    }
   ],
   "source": [
    "from dateutil import parser\n",
    "d1=parser.parse(input(\"enter date:\"))\n",
    "d1"
   ]
  },
  {
   "cell_type": "code",
   "execution_count": 85,
   "id": "cd2f41bf",
   "metadata": {},
   "outputs": [
    {
     "data": {
      "text/plain": [
       "'Tue'"
      ]
     },
     "execution_count": 85,
     "metadata": {},
     "output_type": "execute_result"
    }
   ],
   "source": [
    "parser.parse(\"June, 25,2002\").strftime(\"%a\")"
   ]
  },
  {
   "cell_type": "code",
   "execution_count": 82,
   "id": "d8762360",
   "metadata": {},
   "outputs": [
    {
     "data": {
      "text/plain": [
       "'Friday'"
      ]
     },
     "execution_count": 82,
     "metadata": {},
     "output_type": "execute_result"
    }
   ],
   "source": [
    "parser.parse(\"2003/05/23\").strftime(\"%A\")"
   ]
  },
  {
   "cell_type": "code",
   "execution_count": 2,
   "id": "da48e2e5",
   "metadata": {},
   "outputs": [
    {
     "name": "stdout",
     "output_type": "stream",
     "text": [
      "enter a nummber 4\n"
     ]
    }
   ],
   "source": [
    "a=input(\"enter a nummber\")"
   ]
  },
  {
   "cell_type": "code",
   "execution_count": 3,
   "id": "e1d21f8c",
   "metadata": {},
   "outputs": [
    {
     "data": {
      "text/plain": [
       "str"
      ]
     },
     "execution_count": 3,
     "metadata": {},
     "output_type": "execute_result"
    }
   ],
   "source": [
    "type(a)"
   ]
  },
  {
   "cell_type": "code",
   "execution_count": null,
   "id": "1eec8334",
   "metadata": {},
   "outputs": [],
   "source": []
  }
 ],
 "metadata": {
  "kernelspec": {
   "display_name": "Python 3 (ipykernel)",
   "language": "python",
   "name": "python3"
  },
  "language_info": {
   "codemirror_mode": {
    "name": "ipython",
    "version": 3
   },
   "file_extension": ".py",
   "mimetype": "text/x-python",
   "name": "python",
   "nbconvert_exporter": "python",
   "pygments_lexer": "ipython3",
   "version": "3.9.12"
  }
 },
 "nbformat": 4,
 "nbformat_minor": 5
}
