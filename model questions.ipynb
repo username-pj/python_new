{
 "cells": [
  {
   "cell_type": "markdown",
   "id": "e22f14f2",
   "metadata": {},
   "source": [
    "# model"
   ]
  },
  {
   "cell_type": "code",
   "execution_count": 2,
   "id": "9f6ddf31",
   "metadata": {},
   "outputs": [
    {
     "name": "stdout",
     "output_type": "stream",
     "text": [
      "Enter the exam score (out of 100): 100\n",
      "Grade: A\n",
      "Enter a positive integer value for X: 80\n",
      "Sum of the first 6 terms of the series: 601703.0110630111\n"
     ]
    }
   ],
   "source": [
    "import math\n",
    "\n",
    "def calculate_grade(score):\n",
    "    if score >= 80:\n",
    "        return 'A'\n",
    "    elif score >= 70:\n",
    "        return 'B'\n",
    "    elif score >= 60:\n",
    "        return 'C'\n",
    "    elif score >= 50:\n",
    "        return 'D'\n",
    "    else:\n",
    "        return 'F'\n",
    "\n",
    "def calculate_series_sum(x, num_terms):\n",
    "    series_sum = 0\n",
    "    for i in range(num_terms):\n",
    "        term = x**3 / math.factorial(2*i + 1)\n",
    "        series_sum += term\n",
    "    return series_sum\n",
    "\n",
    "def main():\n",
    "    # Part a: Grade calculation\n",
    "    exam_score = int(input(\"Enter the exam score (out of 100): \"))\n",
    "    grade = calculate_grade(exam_score)\n",
    "    print(\"Grade:\", grade)\n",
    "\n",
    "    # Part b: Series sum calculation\n",
    "    x_value = int(input(\"Enter a positive integer value for X: \"))\n",
    "    num_terms = 6\n",
    "    series_sum = calculate_series_sum(x_value, num_terms)\n",
    "    print(\"Sum of the first 6 terms of the series:\", series_sum)\n",
    "\n",
    "if __name__ == \"__main__\":\n",
    "    main()\n"
   ]
  },
  {
   "cell_type": "code",
   "execution_count": 1,
   "id": "164c7bfd",
   "metadata": {},
   "outputs": [
    {
     "name": "stdout",
     "output_type": "stream",
     "text": [
      "Enter the number of laborers: 5\n",
      "Enter the name of laborer 1: uma\n",
      "Enter the number of hours worked: 10\n",
      "Wages for uma: Rs 520\n",
      "Enter the name of laborer 2: yumna\n",
      "Enter the number of hours worked: 3\n",
      "Wages for yumna: Rs 150\n",
      "Enter the name of laborer 3: srushti\n",
      "Enter the number of hours worked: 6\n",
      "Wages for srushti: Rs 300\n",
      "Enter the name of laborer 4: lol\n",
      "Enter the number of hours worked: 9\n",
      "Wages for lol: Rs 460\n",
      "Enter the name of laborer 5: lala\n",
      "Enter the number of hours worked: 8\n",
      "Wages for lala: Rs 400\n"
     ]
    }
   ],
   "source": [
    "def calculate_wages(hours_worked):\n",
    "    wages = 0\n",
    "    if hours_worked <= 8:\n",
    "        wages = hours_worked * 50\n",
    "    elif hours_worked <= 12:\n",
    "        wages = 8 * 50 + (hours_worked - 8) * 60\n",
    "    elif hours_worked <= 16:\n",
    "        wages = 8 * 50 + 4 * 60 + (hours_worked - 12) * 80\n",
    "    elif hours_worked <= 20:\n",
    "        wages = 8 * 50 + 4 * 60 + 4 * 80 + (hours_worked - 16) * 105\n",
    "    else:\n",
    "        wages = 8 * 50 + 4 * 60 + 4 * 80 + 4 * 105 + (hours_worked - 20) * 140\n",
    "    return wages\n",
    "\n",
    "def main():\n",
    "    num_laborers = int(input(\"Enter the number of laborers: \"))\n",
    "    for i in range(num_laborers):\n",
    "        laborer_name = input(f\"Enter the name of laborer {i+1}: \")\n",
    "        hours_worked = int(input(\"Enter the number of hours worked: \"))\n",
    "        wages = calculate_wages(hours_worked)\n",
    "        print(f\"Wages for {laborer_name}: Rs {wages}\")\n",
    "\n",
    "if __name__ == \"__main__\":\n",
    "    main()\n"
   ]
  },
  {
   "cell_type": "code",
   "execution_count": 3,
   "id": "582ab737",
   "metadata": {},
   "outputs": [
    {
     "name": "stdout",
     "output_type": "stream",
     "text": [
      "Guess a number between 1 and 9: 6\n",
      "Wrong guess. Try again.\n",
      "Guess a number between 1 and 9: 8\n",
      "Wrong guess. Try again.\n",
      "Guess a number between 1 and 9: 5\n",
      "Wrong guess. Try again.\n",
      "Guess a number between 1 and 9: 1\n",
      "Wrong guess. Try again.\n",
      "Guess a number between 1 and 9: 2\n",
      "Wrong guess. Try again.\n",
      "Guess a number between 1 and 9: 3\n",
      "Wrong guess. Try again.\n",
      "Guess a number between 1 and 9: 4\n",
      "Well guessed!\n"
     ]
    }
   ],
   "source": [
    "import random\n",
    "\n",
    "def guess_number():\n",
    "    target_number = random.randint(1, 9)\n",
    "    while True:\n",
    "        guess = int(input(\"Guess a number between 1 and 9: \"))\n",
    "        if guess == target_number:\n",
    "            print(\"Well guessed!\")\n",
    "            break\n",
    "        else:\n",
    "            print(\"Wrong guess. Try again.\")\n",
    "\n",
    "if __name__ == \"__main__\":\n",
    "    guess_number()\n"
   ]
  },
  {
   "cell_type": "code",
   "execution_count": null,
   "id": "0b46fb79",
   "metadata": {},
   "outputs": [],
   "source": [
    "The error in the provided code is a syntax error. The code attempts to access a dictionary using a tuple key ('a', 'b'), which is not valid in Python. Dictionary keys should be accessed individually, not as a tuple.\n",
    "\n",
    "To fix the error, we can either access each key individually or modify the dictionary structure. Here's the corrected code:\n",
    "\n",
    "python\n",
    "Copy code\n",
    "aLst = {'a': 1, 'b': 2, 'c': 3}\n",
    "print(aLst['a'])  # Accessing individual key\n",
    "\n",
    "# Or, if you want to access multiple keys, you can use a loop or list comprehension\n",
    "# For example, to access keys 'a' and 'b':\n",
    "print([aLst[key] for key in ['a', 'b']])"
   ]
  },
  {
   "cell_type": "code",
   "execution_count": 4,
   "id": "0f6ae6ba",
   "metadata": {},
   "outputs": [
    {
     "name": "stdout",
     "output_type": "stream",
     "text": [
      "The number 2 appears 3 times in the list.\n"
     ]
    }
   ],
   "source": [
    "def count_occurrences(numbers, target):\n",
    "    count = 0\n",
    "    for num in numbers:\n",
    "        if num == target:\n",
    "            count += 1\n",
    "    return count\n",
    "\n",
    "# Example usage:\n",
    "numbers_list = [1, 2, 3, 4, 2, 5, 2]\n",
    "target_number = 2\n",
    "occurrences = count_occurrences(numbers_list, target_number)\n",
    "print(f\"The number {target_number} appears {occurrences} times in the list.\")\n"
   ]
  },
  {
   "cell_type": "code",
   "execution_count": null,
   "id": "5e4f8204",
   "metadata": {},
   "outputs": [],
   "source": []
  }
 ],
 "metadata": {
  "kernelspec": {
   "display_name": "Python 3 (ipykernel)",
   "language": "python",
   "name": "python3"
  },
  "language_info": {
   "codemirror_mode": {
    "name": "ipython",
    "version": 3
   },
   "file_extension": ".py",
   "mimetype": "text/x-python",
   "name": "python",
   "nbconvert_exporter": "python",
   "pygments_lexer": "ipython3",
   "version": "3.9.12"
  }
 },
 "nbformat": 4,
 "nbformat_minor": 5
}
